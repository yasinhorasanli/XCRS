{
 "cells": [
  {
   "cell_type": "code",
   "execution_count": 11,
   "metadata": {},
   "outputs": [
    {
     "name": "stdout",
     "output_type": "stream",
     "text": [
      "Question-1 Statistic: 0.8543494343757629, p-value: 0.0021323657128959894\n",
      "Data is not normally distributed\n",
      "Question-2 Statistic: 0.8543254733085632, p-value: 0.0021301046945154667\n",
      "Data is not normally distributed\n",
      "Question-3 Statistic: 0.8352445960044861, p-value: 0.0009359355317428708\n",
      "Data is not normally distributed\n",
      "Question-4 Statistic: 0.6386733055114746, p-value: 1.207200739372638e-06\n",
      "Data is not normally distributed\n",
      "Question-5 Statistic: 0.6329262256622314, p-value: 1.0297977723894292e-06\n",
      "Data is not normally distributed\n",
      "Question-6 Statistic: 0.8393489122390747, p-value: 0.0011130875209346414\n",
      "Data is not normally distributed\n"
     ]
    }
   ],
   "source": [
    "from scipy import stats\n",
    "\n",
    "def shapiro_result(i, responses):\n",
    "    # Perform Shapiro-Wilk test\n",
    "    stat, p_value = stats.shapiro(responses)\n",
    "\n",
    "    print(f'Question-{i} Statistic: {stat}, p-value: {p_value}')\n",
    "\n",
    "    # Interpretation\n",
    "    alpha = 0.05\n",
    "    if p_value > alpha:\n",
    "        print(\"Data is normally distributed\")\n",
    "    else:\n",
    "        print(\"Data is not normally distributed\")\n",
    "\n",
    "\n",
    "# Example responses\n",
    "q_list = []\n",
    "q1 = [4,4,4,4,4,4,5,5,5,5,3,5,4,4,3,3,3,2,4,4,3,3,5,5,5]\n",
    "q2 = [4,4,4,4,4,2,5,4,3,4,3,5,4,4,3,2,1,1,4,4,2,2,4,5,5]\n",
    "q3 = [5,4,4,4,4,3,3,4,4,4,4,4,4,5,4,3,3,3,4,5,2,1,5,5,4]\n",
    "q4 = [4,5,4,4,5,5,5,5,4,4,4,5,5,4,4,5,4,4,5,5,4,4,4,5,5]\n",
    "q5 = [5,5,4,4,5,5,4,5,5,4,5,5,4,5,3,5,4,1,5,5,5,4,4,5,5]\n",
    "q6 = [5,4,5,5,4,4,4,5,3,4,4,5,4,5,3,3,1,2,5,3,2,2,5,5,5]\n",
    "\n",
    "q_list.append(q1)\n",
    "q_list.append(q2)\n",
    "q_list.append(q3)\n",
    "q_list.append(q4)\n",
    "q_list.append(q5)\n",
    "q_list.append(q6)\n",
    "\n",
    "\n",
    "for i, q in enumerate(q_list):\n",
    "    shapiro_result(i+1 ,q)\n",
    "    \n"
   ]
  },
  {
   "cell_type": "code",
   "execution_count": null,
   "metadata": {},
   "outputs": [],
   "source": []
  }
 ],
 "metadata": {
  "kernelspec": {
   "display_name": "base",
   "language": "python",
   "name": "python3"
  },
  "language_info": {
   "codemirror_mode": {
    "name": "ipython",
    "version": 3
   },
   "file_extension": ".py",
   "mimetype": "text/x-python",
   "name": "python",
   "nbconvert_exporter": "python",
   "pygments_lexer": "ipython3",
   "version": "3.11.7"
  }
 },
 "nbformat": 4,
 "nbformat_minor": 2
}
