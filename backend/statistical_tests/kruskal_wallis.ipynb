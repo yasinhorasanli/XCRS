{
 "cells": [
  {
   "cell_type": "code",
   "execution_count": 4,
   "metadata": {},
   "outputs": [],
   "source": [
    "from scipy import stats"
   ]
  },
  {
   "cell_type": "markdown",
   "metadata": {},
   "source": [
    "# Employment Status"
   ]
  },
  {
   "cell_type": "markdown",
   "metadata": {},
   "source": [
    "## Q1 - Effectiveness"
   ]
  },
  {
   "cell_type": "code",
   "execution_count": 2,
   "metadata": {},
   "outputs": [
    {
     "name": "stdout",
     "output_type": "stream",
     "text": [
      "Statistic: 4.3278, p-value: 0.2282\n",
      "Fail to reject the null hypothesis: No significant difference between the groups.\n"
     ]
    }
   ],
   "source": [
    "# Example: Effectivenes scores (Q1) grouped by Employment Status\n",
    "group1 = [5,3,5]  # Unemployed \n",
    "group2 = [5,4,3,3,2,3]  # Studying \n",
    "group3 = [4,4,4,5,5,5,3,4,3,4,4,5,5]  # Working \n",
    "group4 = [4,4,4]  # Studying and Working \n",
    "\n",
    "# Perform Kruskal-Wallis H Test\n",
    "stat, p_value = stats.kruskal(group1, group2, group3, group4)\n",
    "print(f'Statistic: {stat:.4f}, p-value: {p_value:.4f}')\n",
    "\n",
    "# Interpretation\n",
    "alpha = 0.05\n",
    "if p_value < alpha:\n",
    "    print(\"Reject the null hypothesis: There is a significant difference between the groups.\")\n",
    "else:\n",
    "    print(\"Fail to reject the null hypothesis: No significant difference between the groups.\")\n"
   ]
  },
  {
   "cell_type": "markdown",
   "metadata": {},
   "source": [
    "## Q2 - Satisfaction"
   ]
  },
  {
   "cell_type": "code",
   "execution_count": null,
   "metadata": {},
   "outputs": [],
   "source": [
    "# Example: Satisfaction scores (Q2) grouped by Employment Status\n",
    "group1 = []  # Unemployed \n",
    "group2 = []  # Studying \n",
    "group3 = []  # Working \n",
    "group4 = []  # Studying and Working \n",
    "\n",
    "# Perform Kruskal-Wallis H Test\n",
    "stat, p_value = stats.kruskal(group1, group2, group3, group4)\n",
    "print(f'Statistic: {stat:.4f}, p-value: {p_value:.4f}')\n",
    "\n",
    "# Interpretation\n",
    "alpha = 0.05\n",
    "if p_value < alpha:\n",
    "    print(\"Reject the null hypothesis: There is a significant difference between the groups.\")\n",
    "else:\n",
    "    print(\"Fail to reject the null hypothesis: No significant difference between the groups.\")"
   ]
  },
  {
   "cell_type": "markdown",
   "metadata": {},
   "source": [
    "# Job Experience"
   ]
  },
  {
   "cell_type": "code",
   "execution_count": 3,
   "metadata": {},
   "outputs": [
    {
     "name": "stdout",
     "output_type": "stream",
     "text": [
      "Statistic: 4.5163, p-value: 0.2108\n",
      "Fail to reject the null hypothesis: No significant difference between the groups.\n"
     ]
    }
   ],
   "source": [
    "# Example: Effectiveness scores (Q1) grouped by Job Experience\n",
    "group1 = [5,4,3,3,2,3]  # No experience \n",
    "group2 = [4,4,5,5,3,3]  # 1 or less than 1 year\n",
    "group3 = [4,4,4,4,4,5,5]  # 2-4 years\n",
    "group4 = [4,4,5,5,3,5]  # 5-6 or more years\n",
    "\n",
    "# Perform Kruskal-Wallis H Test\n",
    "stat, p_value = stats.kruskal(group1, group2, group3, group4)\n",
    "print(f'Statistic: {stat:.4f}, p-value: {p_value:.4f}')\n",
    "\n",
    "# Interpretation\n",
    "alpha = 0.05\n",
    "if p_value < alpha:\n",
    "    print(\"Reject the null hypothesis: There is a significant difference between the groups.\")\n",
    "else:\n",
    "    print(\"Fail to reject the null hypothesis: No significant difference between the groups.\")\n"
   ]
  }
 ],
 "metadata": {
  "kernelspec": {
   "display_name": "base",
   "language": "python",
   "name": "python3"
  },
  "language_info": {
   "codemirror_mode": {
    "name": "ipython",
    "version": 3
   },
   "file_extension": ".py",
   "mimetype": "text/x-python",
   "name": "python",
   "nbconvert_exporter": "python",
   "pygments_lexer": "ipython3",
   "version": "3.11.7"
  }
 },
 "nbformat": 4,
 "nbformat_minor": 2
}
