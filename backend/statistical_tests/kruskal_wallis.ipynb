{
 "cells": [
  {
   "cell_type": "code",
   "execution_count": 2,
   "metadata": {},
   "outputs": [],
   "source": [
    "from scipy import stats\n",
    "import numpy as np\n",
    "from pprint import pformat"
   ]
  },
  {
   "cell_type": "code",
   "execution_count": 40,
   "metadata": {},
   "outputs": [],
   "source": [
    "def print_mean_variance(groups):\n",
    "    for id, group in enumerate(groups):\n",
    "        mean_value = np.mean(group)\n",
    "        variance_value = np.var(group, ddof=1)\n",
    "        print(f\"{id+1}) Mean: {mean_value}  Variance: {variance_value}\")\n",
    "    print()"
   ]
  },
  {
   "cell_type": "markdown",
   "metadata": {},
   "source": [
    "# Model Usefullness"
   ]
  },
  {
   "cell_type": "code",
   "execution_count": 5,
   "metadata": {},
   "outputs": [
    {
     "name": "stdout",
     "output_type": "stream",
     "text": [
      "Statistic: 2.8741, p-value: 0.5791\n",
      "Fail to reject the null hypothesis: No significant difference between the groups.\n",
      "\n"
     ]
    }
   ],
   "source": [
    "# Example: Effectivenes scores (Q1) grouped by Employment Status\n",
    "model1 = [5,5,5,3,4,3,3,4,3,2,1,2,4,5,3,2,3,2,5,3,2,5,4,5,5,  4,5,4,4,3,3,4,5,3,3,1,2,2,4,2,2,3,3,5,4,2,2,5,5,5]\n",
    "model2 = [4,5,5,4,4,2,5,5,3,2,1,5,5,4,4,5,2,2,3,3,3,4,3,3,5,  3,5,4,5,2,2,5,3,3,3,1,5,4,4,2,4,2,3,4,3,2,2,4,3,5]\n",
    "model3 = [3,4,3,3,4,3,3,4,5,2,3,4,3,3,3,3,3,3,3,1,4,3,5,4,4,  4,3,4,4,3,3,3,3,5,3,3,4,3,4,2,3,2,3,4,3,3,2,5,5,4]\n",
    "model4 = [2,4,4,4,4,5,4,4,4,4,3,4,4,4,2,5,3,2,3,2,4,2,4,4,5,  2,4,3,4,4,5,4,2,4,4,3,4,4,3,4,5,3,4,3,3,4,2,5,5,5]  \n",
    "model5 = [3,4,5,5,3,4,1,5,4,5,4,5,2,3,2,1,2,1,2,5,5,5,4,4,5,  2,4,4,4,3,4,1,4,4,5,4,5,2,4,3,2,4,2,4,4,4,3,5,3,4]\n",
    "\n",
    "# print_mean_variance(groups=[model1])\n",
    "\n",
    "# Perform Kruskal-Wallis H Test\n",
    "stat, p_value = stats.kruskal(model1, model2, model3, model4, model5)\n",
    "print(f'Statistic: {stat:.4f}, p-value: {p_value:.4f}')\n",
    "\n",
    "# Interpretation\n",
    "alpha = 0.05\n",
    "if p_value < alpha:\n",
    "    print(\"Reject the null hypothesis: There is a significant difference between the groups.\")\n",
    "else:\n",
    "    print(\"Fail to reject the null hypothesis: No significant difference between the groups.\")\n",
    "\n",
    "print()\n",
    "#print_pairwise_mannwhitneyu_employment(groups=[group1, group2, group3, group4])"
   ]
  },
  {
   "cell_type": "markdown",
   "metadata": {},
   "source": [
    "# Employment Status"
   ]
  },
  {
   "cell_type": "code",
   "execution_count": 57,
   "metadata": {},
   "outputs": [],
   "source": [
    "def print_pairwise_mannwhitneyu_employment(groups):\n",
    "    pairwise_results = {}\n",
    "    pairs = [\n",
    "        (\"Unemployed vs Studying\", groups[0], groups[1]),\n",
    "        (\"Unemployed vs Working\", groups[0], groups[2]),\n",
    "        (\"Unemployed vs Studying and Working\", groups[0], groups[3]),\n",
    "        (\"Studying vs Working\", groups[1], groups[2]),\n",
    "        (\"Studying vs Studying and Working\", groups[1], groups[3]),\n",
    "        (\"Working vs Studying and Working\", groups[2], groups[3]),\n",
    "    ]\n",
    "\n",
    "    for name, g1, g2 in pairs:\n",
    "        u_stat, p_value = stats.mannwhitneyu(g1, g2)\n",
    "        pairwise_results[name] = p_value\n",
    "        \n",
    "    print(pformat(pairwise_results))"
   ]
  },
  {
   "cell_type": "markdown",
   "metadata": {},
   "source": [
    "## Q1 - Effectiveness"
   ]
  },
  {
   "cell_type": "code",
   "execution_count": 42,
   "metadata": {},
   "outputs": [
    {
     "name": "stdout",
     "output_type": "stream",
     "text": [
      "1) Mean: 4.333333333333333  Variance: 1.3333333333333335\n",
      "2) Mean: 3.3333333333333335  Variance: 1.0666666666666667\n",
      "3) Mean: 4.230769230769231  Variance: 0.5256410256410257\n",
      "4) Mean: 4.0  Variance: 0.0\n",
      "\n",
      "Statistic: 4.3278, p-value: 0.2282\n",
      "Fail to reject the null hypothesis: No significant difference between the groups.\n",
      "\n",
      "{'Studying vs Studying and Working': 0.271818443255495,\n",
      " 'Studying vs Working': 0.06484817154881316,\n",
      " 'Unemployed vs Studying': 0.271818443255495,\n",
      " 'Unemployed vs Studying and Working': 0.6373518882339371,\n",
      " 'Unemployed vs Working': 0.7717434922004015,\n",
      " 'Working vs Studying and Working': 0.5455504761355725}\n"
     ]
    }
   ],
   "source": [
    "# Example: Effectivenes scores (Q1) grouped by Employment Status\n",
    "group1 = [5,3,5]  # Unemployed \n",
    "group2 = [5,4,3,3,2,3]  # Studying \n",
    "group3 = [4,4,4,5,5,5,3,4,3,4,4,5,5]  # Working \n",
    "group4 = [4,4,4]  # Studying and Working \n",
    "\n",
    "print_mean_variance(groups=[group1, group2, group3, group4])\n",
    "\n",
    "# Perform Kruskal-Wallis H Test\n",
    "stat, p_value = stats.kruskal(group1, group2, group3, group4)\n",
    "print(f'Statistic: {stat:.4f}, p-value: {p_value:.4f}')\n",
    "\n",
    "# Interpretation\n",
    "alpha = 0.05\n",
    "if p_value < alpha:\n",
    "    print(\"Reject the null hypothesis: There is a significant difference between the groups.\")\n",
    "else:\n",
    "    print(\"Fail to reject the null hypothesis: No significant difference between the groups.\")\n",
    "\n",
    "print()\n",
    "print_pairwise_mannwhitneyu_employment(groups=[group1, group2, group3, group4])"
   ]
  },
  {
   "cell_type": "markdown",
   "metadata": {},
   "source": [
    "## Q2 - Satisfaction (Likelihood Use)"
   ]
  },
  {
   "cell_type": "code",
   "execution_count": 47,
   "metadata": {},
   "outputs": [
    {
     "name": "stdout",
     "output_type": "stream",
     "text": [
      "1) Mean: 3.6666666666666665  Variance: 2.333333333333333\n",
      "2) Mean: 2.5  Variance: 2.7\n",
      "3) Mean: 3.923076923076923  Variance: 0.4102564102564102\n",
      "4) Mean: 3.3333333333333335  Variance: 1.3333333333333333\n",
      "\n",
      "Statistic: 3.8654, p-value: 0.2764\n",
      "Fail to reject the null hypothesis: No significant difference between the groups.\n",
      "\n",
      "{'Studying vs Studying and Working': 0.5021211202263315,\n",
      " 'Studying vs Working': 0.0692172756293529,\n",
      " 'Unemployed vs Studying': 0.35171590865414126,\n",
      " 'Unemployed vs Studying and Working': 0.8136637157667919,\n",
      " 'Unemployed vs Working': 1.0,\n",
      " 'Working vs Studying and Working': 0.437314756689577}\n"
     ]
    }
   ],
   "source": [
    "# Example: Satisfaction scores (Q2) grouped by Employment Status\n",
    "group1 = [4,2,5]  # Unemployed \n",
    "group2 = [5,4,2,1,1,2]  # Studying \n",
    "group3 = [4,4,4,5,4,3,3,4,3,4,4,4,5]  # Working \n",
    "group4 = [4,4,2]  # Studying and Working \n",
    "\n",
    "print_mean_variance(groups=[group1, group2, group3, group4])\n",
    "\n",
    "# Perform Kruskal-Wallis H Test\n",
    "stat, p_value = stats.kruskal(group1, group2, group3, group4)\n",
    "print(f'Statistic: {stat:.4f}, p-value: {p_value:.4f}')\n",
    "\n",
    "# Interpretation\n",
    "alpha = 0.05\n",
    "if p_value < alpha:\n",
    "    print(\"Reject the null hypothesis: There is a significant difference between the groups.\")\n",
    "else:\n",
    "    print(\"Fail to reject the null hypothesis: No significant difference between the groups.\")\n",
    "\n",
    "print()\n",
    "print_pairwise_mannwhitneyu_employment(groups=[group1, group2, group3, group4])"
   ]
  },
  {
   "cell_type": "markdown",
   "metadata": {},
   "source": [
    "## Q3 - Persuasiveness"
   ]
  },
  {
   "cell_type": "code",
   "execution_count": 46,
   "metadata": {},
   "outputs": [
    {
     "name": "stdout",
     "output_type": "stream",
     "text": [
      "1) Mean: 3.0  Variance: 3.0\n",
      "2) Mean: 3.1666666666666665  Variance: 0.5666666666666667\n",
      "3) Mean: 4.230769230769231  Variance: 0.35897435897435903\n",
      "4) Mean: 4.0  Variance: 1.0\n",
      "\n",
      "Statistic: 7.4516, p-value: 0.0588\n",
      "Fail to reject the null hypothesis: No significant difference between the groups.\n",
      "\n",
      "{'Studying vs Studying and Working': 0.271818443255495,\n",
      " 'Studying vs Working': 0.009673795720228608,\n",
      " 'Unemployed vs Studying': 0.8907458009320663,\n",
      " 'Unemployed vs Studying and Working': 0.6428348264908044,\n",
      " 'Unemployed vs Working': 0.16001280181530242,\n",
      " 'Working vs Studying and Working': 0.7055972771517258}\n"
     ]
    }
   ],
   "source": [
    "# Example: Persuasiveness scores (Q3) grouped by Employment Status\n",
    "group1 = [4,1,4]  # Unemployed \n",
    "group2 = [4,4,3,3,3,2]  # Studying \n",
    "group3 = [4,4,4,3,4,4,4,5,4,4,5,5,5]  # Working \n",
    "group4 = [5,4,3]  # Studying and Working \n",
    "\n",
    "print_mean_variance(groups=[group1, group2, group3, group4])\n",
    "\n",
    "# Perform Kruskal-Wallis H Test\n",
    "stat, p_value = stats.kruskal(group1, group2, group3, group4)\n",
    "print(f'Statistic: {stat:.4f}, p-value: {p_value:.4f}')\n",
    "\n",
    "# Interpretation\n",
    "alpha = 0.05\n",
    "if p_value < alpha:\n",
    "    print(\"Reject the null hypothesis: There is a significant difference between the groups.\")\n",
    "else:\n",
    "    print(\"Fail to reject the null hypothesis: No significant difference between the groups.\")\n",
    "\n",
    "print()\n",
    "print_pairwise_mannwhitneyu_employment(groups=[group1, group2, group3, group4])"
   ]
  },
  {
   "cell_type": "markdown",
   "metadata": {},
   "source": [
    "## Q4 - Tranparency (Explanations)"
   ]
  },
  {
   "cell_type": "code",
   "execution_count": 48,
   "metadata": {},
   "outputs": [
    {
     "name": "stdout",
     "output_type": "stream",
     "text": [
      "1) Mean: 4.333333333333333  Variance: 0.33333333333333337\n",
      "2) Mean: 4.5  Variance: 0.3\n",
      "3) Mean: 4.538461538461538  Variance: 0.2692307692307693\n",
      "4) Mean: 4.333333333333333  Variance: 0.33333333333333337\n",
      "\n",
      "Statistic: 0.6765, p-value: 0.8787\n",
      "Fail to reject the null hypothesis: No significant difference between the groups.\n",
      "\n",
      "{'Studying vs Studying and Working': 0.765594483995764,\n",
      " 'Studying vs Working': 0.9193330052953381,\n",
      " 'Unemployed vs Studying': 0.765594483995764,\n",
      " 'Unemployed vs Studying and Working': 1.0,\n",
      " 'Unemployed vs Working': 0.587369453754309,\n",
      " 'Working vs Studying and Working': 0.587369453754309}\n"
     ]
    }
   ],
   "source": [
    "# Example: Tranparency scores (Q4) grouped by Employment Status\n",
    "group1 = [4,4,5]  # Unemployed \n",
    "group2 = [5,5,5,4,4,4]  # Studying \n",
    "group3 = [5,4,5,5,5,4,4,4,4,5,5,4,5]  # Working \n",
    "group4 = [4,4,5]  # Studying and Working \n",
    "\n",
    "print_mean_variance(groups=[group1, group2, group3, group4])\n",
    "\n",
    "# Perform Kruskal-Wallis H Test\n",
    "stat, p_value = stats.kruskal(group1, group2, group3, group4)\n",
    "print(f'Statistic: {stat:.4f}, p-value: {p_value:.4f}')\n",
    "\n",
    "# Interpretation\n",
    "alpha = 0.05\n",
    "if p_value < alpha:\n",
    "    print(\"Reject the null hypothesis: There is a significant difference between the groups.\")\n",
    "else:\n",
    "    print(\"Fail to reject the null hypothesis: No significant difference between the groups.\")\n",
    "\n",
    "print()\n",
    "print_pairwise_mannwhitneyu_employment(groups=[group1, group2, group3, group4])\n"
   ]
  },
  {
   "cell_type": "markdown",
   "metadata": {},
   "source": [
    "## Q5 - Efficiency"
   ]
  },
  {
   "cell_type": "code",
   "execution_count": 49,
   "metadata": {},
   "outputs": [
    {
     "name": "stdout",
     "output_type": "stream",
     "text": [
      "1) Mean: 4.333333333333333  Variance: 0.33333333333333337\n",
      "2) Mean: 4.0  Variance: 2.4\n",
      "3) Mean: 4.615384615384615  Variance: 0.4230769230769231\n",
      "4) Mean: 4.666666666666667  Variance: 0.33333333333333337\n",
      "\n",
      "Statistic: 1.4296, p-value: 0.6986\n",
      "Fail to reject the null hypothesis: No significant difference between the groups.\n",
      "\n",
      "{'Studying vs Studying and Working': 0.6650055421020291,\n",
      " 'Studying vs Working': 0.41202895927573435,\n",
      " 'Unemployed vs Studying': 1.0,\n",
      " 'Unemployed vs Studying and Working': 0.6192567541768621,\n",
      " 'Unemployed vs Working': 0.3858005645082825,\n",
      " 'Working vs Studying and Working': 1.0}\n"
     ]
    }
   ],
   "source": [
    "# Example: Efficiency scores (Q5) grouped by Employment Status\n",
    "group1 = [4,4,5]  # Unemployed \n",
    "group2 = [5,4,5,4,1,5]  # Studying \n",
    "group3 = [5,4,5,4,5,5,5,5,3,5,5,4,5]  # Working \n",
    "group4 = [5,4,5]  # Studying and Working \n",
    "\n",
    "print_mean_variance(groups=[group1, group2, group3, group4])\n",
    "\n",
    "# Perform Kruskal-Wallis H Test\n",
    "stat, p_value = stats.kruskal(group1, group2, group3, group4)\n",
    "print(f'Statistic: {stat:.4f}, p-value: {p_value:.4f}')\n",
    "\n",
    "# Interpretation\n",
    "alpha = 0.05\n",
    "if p_value < alpha:\n",
    "    print(\"Reject the null hypothesis: There is a significant difference between the groups.\")\n",
    "else:\n",
    "    print(\"Fail to reject the null hypothesis: No significant difference between the groups.\")\n",
    "\n",
    "print()\n",
    "print_pairwise_mannwhitneyu_employment(groups=[group1, group2, group3, group4])"
   ]
  },
  {
   "cell_type": "markdown",
   "metadata": {},
   "source": [
    "## Q6 - Serendipity"
   ]
  },
  {
   "cell_type": "code",
   "execution_count": 50,
   "metadata": {},
   "outputs": [
    {
     "name": "stdout",
     "output_type": "stream",
     "text": [
      "1) Mean: 1.0  Variance: 0.0\n",
      "2) Mean: 0.6666666666666666  Variance: 0.2666666666666667\n",
      "3) Mean: 0.9230769230769231  Variance: 0.07692307692307694\n",
      "4) Mean: 0.6666666666666666  Variance: 0.33333333333333337\n",
      "\n",
      "Statistic: 3.1209, p-value: 0.3734\n",
      "Fail to reject the null hypothesis: No significant difference between the groups.\n",
      "\n",
      "{'Studying vs Studying and Working': 1.0,\n",
      " 'Studying vs Working': 0.18770023708766914,\n",
      " 'Unemployed vs Studying': 0.3729984836134872,\n",
      " 'Unemployed vs Studying and Working': 0.5049850750938458,\n",
      " 'Unemployed vs Working': 0.7487740417065472,\n",
      " 'Working vs Studying and Working': 0.2915093621897107}\n"
     ]
    }
   ],
   "source": [
    "# Example: Serendipity scores (Q6) grouped by Employment Status (Yes:1/No:0)\n",
    "group1 = [1,1,1]  # Unemployed \n",
    "group2 = [1,1,1,1,0,0]  # Studying \n",
    "group3 = [1,0,1,1,1,1,1,1,1,1,1,1,1]  # Working \n",
    "group4 = [0,1,1]  # Studying and Working \n",
    "\n",
    "print_mean_variance(groups=[group1, group2, group3, group4])\n",
    "\n",
    "# Perform Kruskal-Wallis H Test\n",
    "stat, p_value = stats.kruskal(group1, group2, group3, group4)\n",
    "print(f'Statistic: {stat:.4f}, p-value: {p_value:.4f}')\n",
    "\n",
    "# Interpretation\n",
    "alpha = 0.05\n",
    "if p_value < alpha:\n",
    "    print(\"Reject the null hypothesis: There is a significant difference between the groups.\")\n",
    "else:\n",
    "    print(\"Fail to reject the null hypothesis: No significant difference between the groups.\")\n",
    "\n",
    "print()\n",
    "print_pairwise_mannwhitneyu_employment(groups=[group1, group2, group3, group4])"
   ]
  },
  {
   "cell_type": "markdown",
   "metadata": {},
   "source": [
    "## Q7 - Satisfaction (Likelihood Recommend)"
   ]
  },
  {
   "cell_type": "code",
   "execution_count": 51,
   "metadata": {},
   "outputs": [
    {
     "name": "stdout",
     "output_type": "stream",
     "text": [
      "1) Mean: 3.6666666666666665  Variance: 2.333333333333333\n",
      "2) Mean: 2.8333333333333335  Variance: 2.1666666666666665\n",
      "3) Mean: 4.230769230769231  Variance: 0.6923076923076925\n",
      "4) Mean: 4.666666666666667  Variance: 0.33333333333333337\n",
      "\n",
      "Statistic: 5.5944, p-value: 0.1331\n",
      "Fail to reject the null hypothesis: No significant difference between the groups.\n",
      "\n",
      "{'Studying vs Studying and Working': 0.11196135426374831,\n",
      " 'Studying vs Working': 0.044679886988905036,\n",
      " 'Unemployed vs Studying': 0.5078006482752733,\n",
      " 'Unemployed vs Studying and Working': 0.47950012218695337,\n",
      " 'Unemployed vs Working': 0.5667178898445695,\n",
      " 'Working vs Studying and Working': 0.4632945239093813}\n"
     ]
    }
   ],
   "source": [
    "# Example: Satisfaction scores (Q7) grouped by Employment Status\n",
    "group1 = [4,2,5]  # Unemployed \n",
    "group2 = [5,4,3,1,2,2]  # Studying \n",
    "group3 = [4,5,4,4,5,3,4,5,3,5,3,5,5]  # Working \n",
    "group4 = [5,5,4]  # Studying and Working \n",
    "\n",
    "print_mean_variance(groups=[group1, group2, group3, group4])\n",
    "\n",
    "# Perform Kruskal-Wallis H Test\n",
    "stat, p_value = stats.kruskal(group1, group2, group3, group4)\n",
    "print(f'Statistic: {stat:.4f}, p-value: {p_value:.4f}')\n",
    "\n",
    "# Interpretation\n",
    "alpha = 0.05\n",
    "if p_value < alpha:\n",
    "    print(\"Reject the null hypothesis: There is a significant difference between the groups.\")\n",
    "else:\n",
    "    print(\"Fail to reject the null hypothesis: No significant difference between the groups.\")\n",
    "\n",
    "print()\n",
    "print_pairwise_mannwhitneyu_employment(groups=[group1, group2, group3, group4])"
   ]
  },
  {
   "cell_type": "markdown",
   "metadata": {},
   "source": [
    "# Job Experience"
   ]
  },
  {
   "cell_type": "code",
   "execution_count": null,
   "metadata": {},
   "outputs": [],
   "source": [
    "def print_pairwise_mannwhitneyu_job(groups):\n",
    "    pairwise_results = {}\n",
    "    pairs = [\n",
    "        (\"No Experience vs 1 or less than 1 year\", groups[0], groups[1]),\n",
    "        (\"No Experience vs 2-4 years\", groups[0], groups[2]),\n",
    "        (\"No Experience vs 5-6 or more years\", groups[0], groups[3]),\n",
    "        (\"1 or less than 1 year vs 2-4 years\", groups[1], groups[2]),\n",
    "        (\"1 or less than 1 year vs 5-6 or more years\", groups[1], groups[3]),\n",
    "        (\"2-4 years vs 5-6 or more years\", groups[2], groups[3]),\n",
    "    ]\n",
    "\n",
    "    for name, g1, g2 in pairs:\n",
    "        u_stat, p_value = stats.mannwhitneyu(g1, g2)\n",
    "        pairwise_results[name] = p_value\n",
    "        \n",
    "    print(pformat(pairwise_results))"
   ]
  },
  {
   "cell_type": "markdown",
   "metadata": {},
   "source": [
    "## Q1 - Effectiveness"
   ]
  },
  {
   "cell_type": "code",
   "execution_count": null,
   "metadata": {},
   "outputs": [
    {
     "name": "stdout",
     "output_type": "stream",
     "text": [
      "Statistic: 4.5163, p-value: 0.2108\n",
      "Fail to reject the null hypothesis: No significant difference between the groups.\n",
      "\n",
      "{'1 or less than 1 year vs 2-4 years': 0.5798994026597011,\n",
      " '1 or less than 1 year vs 5-6 or more years': 0.5504668540589885,\n",
      " '2-4 years vs 5-6 or more years': 0.8096279501132487,\n",
      " 'No Experience vs 1 or less than 1 year': 0.27314099423045035,\n",
      " 'No Experience vs 2-4 years': 0.06792589993520161,\n",
      " 'No Experience vs 5-6 or more years': 0.1119779888177179}\n"
     ]
    }
   ],
   "source": [
    "# Example: Effectiveness scores (Q1) grouped by Job Experience\n",
    "group1 = [5,4,3,3,2,3]  # No experience \n",
    "group2 = [4,4,5,5,3,3]  # 1 or less than 1 year\n",
    "group3 = [4,4,4,4,4,5,5]  # 2-4 years\n",
    "group4 = [4,4,5,5,3,5]  # 5-6 or more years\n",
    "\n",
    "# Perform Kruskal-Wallis H Test\n",
    "stat, p_value = stats.kruskal(group1, group2, group3, group4)\n",
    "print(f'Statistic: {stat:.4f}, p-value: {p_value:.4f}')\n",
    "\n",
    "# Interpretation\n",
    "alpha = 0.05\n",
    "if p_value < alpha:\n",
    "    print(\"Reject the null hypothesis: There is a significant difference between the groups.\")\n",
    "else:\n",
    "    print(\"Fail to reject the null hypothesis: No significant difference between the groups.\")\n",
    "\n",
    "print()\n",
    "print_pairwise_mannwhitneyu_job(groups=[group1, group2, group3, group4])"
   ]
  },
  {
   "cell_type": "markdown",
   "metadata": {},
   "source": [
    "## Q2 - Satisfaction (Likelihood Use)"
   ]
  },
  {
   "cell_type": "code",
   "execution_count": null,
   "metadata": {},
   "outputs": [
    {
     "name": "stdout",
     "output_type": "stream",
     "text": [
      "1) Mean: 2.5  Variance: 2.7\n",
      "2) Mean: 3.1666666666666665  Variance: 0.9666666666666666\n",
      "3) Mean: 4.142857142857143  Variance: 0.14285714285714288\n",
      "4) Mean: 4.0  Variance: 0.8\n",
      "\n",
      "Statistic: 6.1253, p-value: 0.1057\n",
      "Fail to reject the null hypothesis: No significant difference between the groups.\n",
      "\n",
      "{'1 or less than 1 year vs 2-4 years': 0.044357116148606705,\n",
      " '1 or less than 1 year vs 5-6 or more years': 0.2078213890505637,\n",
      " '2-4 years vs 5-6 or more years': 0.805268562341471,\n",
      " 'No Experience vs 1 or less than 1 year': 0.4055446969502646,\n",
      " 'No Experience vs 2-4 years': 0.08603327021636742,\n",
      " 'No Experience vs 5-6 or more years': 0.12081938653567083}\n"
     ]
    }
   ],
   "source": [
    "# Example: Satisfaction scores (Q2) grouped by Job Experience\n",
    "group1 = [5,4,2,1,1,2]  # No experience \n",
    "group2 = [4,2,4,4,3,2]  # 1 or less than 1 year\n",
    "group3 = [4,4,4,4,4,4,5]  # 2-4 years\n",
    "group4 = [4,4,5,3,3,5]  # 5-6 or more years\n",
    "\n",
    "print_mean_variance(groups=[group1, group2, group3, group4])\n",
    "\n",
    "# Perform Kruskal-Wallis H Test\n",
    "stat, p_value = stats.kruskal(group1, group2, group3, group4)\n",
    "print(f'Statistic: {stat:.4f}, p-value: {p_value:.4f}')\n",
    "\n",
    "# Interpretation\n",
    "alpha = 0.05\n",
    "if p_value < alpha:\n",
    "    print(\"Reject the null hypothesis: There is a significant difference between the groups.\")\n",
    "else:\n",
    "    print(\"Fail to reject the null hypothesis: No significant difference between the groups.\")\n",
    "\n",
    "print()\n",
    "print_pairwise_mannwhitneyu_job(groups=[group1, group2, group3, group4])"
   ]
  },
  {
   "cell_type": "markdown",
   "metadata": {},
   "source": [
    "## Q3 - Persuasiveness"
   ]
  },
  {
   "cell_type": "code",
   "execution_count": null,
   "metadata": {},
   "outputs": [
    {
     "name": "stdout",
     "output_type": "stream",
     "text": [
      "1) Mean: 3.1666666666666665  Variance: 0.5666666666666667\n",
      "2) Mean: 3.3333333333333335  Variance: 1.4666666666666668\n",
      "3) Mean: 4.571428571428571  Variance: 0.2857142857142857\n",
      "4) Mean: 4.0  Variance: 0.4\n",
      "\n",
      "Statistic: 10.8046, p-value: 0.0128\n",
      "Reject the null hypothesis: There is a significant difference between the groups.\n",
      "\n",
      "{'1 or less than 1 year vs 2-4 years': 0.02205892422200737,\n",
      " '1 or less than 1 year vs 5-6 or more years': 0.3395562157854821,\n",
      " '2-4 years vs 5-6 or more years': 0.1270750827817516,\n",
      " 'No Experience vs 1 or less than 1 year': 0.485331203626996,\n",
      " 'No Experience vs 2-4 years': 0.008648846074316348,\n",
      " 'No Experience vs 5-6 or more years': 0.08109208502833234}\n"
     ]
    }
   ],
   "source": [
    "# Example: Persuasiveness scores (Q3) grouped by Job Experience\n",
    "group1 = [4,4,3,3,3,2]  # No experience \n",
    "group2 = [4,3,4,4,4,1]  # 1 or less than 1 year\n",
    "group3 = [4,4,5,4,5,5,5]  # 2-4 years\n",
    "group4 = [5,4,3,4,4,4]  # 5-6 or more years\n",
    "\n",
    "print_mean_variance(groups=[group1, group2, group3, group4])\n",
    "\n",
    "# Perform Kruskal-Wallis H Test\n",
    "stat, p_value = stats.kruskal(group1, group2, group3, group4)\n",
    "print(f'Statistic: {stat:.4f}, p-value: {p_value:.4f}')\n",
    "\n",
    "# Interpretation\n",
    "alpha = 0.05\n",
    "if p_value < alpha:\n",
    "    print(\"Reject the null hypothesis: There is a significant difference between the groups.\")\n",
    "else:\n",
    "    print(\"Fail to reject the null hypothesis: No significant difference between the groups.\")\n",
    "\n",
    "print()\n",
    "print_pairwise_mannwhitneyu_job(groups=[group1, group2, group3, group4])"
   ]
  },
  {
   "cell_type": "markdown",
   "metadata": {},
   "source": [
    "## Q4 - Tranparency (Explanations)"
   ]
  },
  {
   "cell_type": "code",
   "execution_count": null,
   "metadata": {},
   "outputs": [
    {
     "name": "stdout",
     "output_type": "stream",
     "text": [
      "1) Mean: 4.5  Variance: 0.3\n",
      "2) Mean: 4.333333333333333  Variance: 0.2666666666666667\n",
      "3) Mean: 4.571428571428571  Variance: 0.2857142857142857\n",
      "4) Mean: 4.5  Variance: 0.3\n",
      "\n",
      "Statistic: 0.7399, p-value: 0.8638\n",
      "Fail to reject the null hypothesis: No significant difference between the groups.\n",
      "\n",
      "{'1 or less than 1 year vs 2-4 years': 0.45790105544025483,\n",
      " '1 or less than 1 year vs 5-6 or more years': 0.6403735394530488,\n",
      " '2-4 years vs 5-6 or more years': 0.8689776543645945,\n",
      " 'No Experience vs 1 or less than 1 year': 0.6403735394530488,\n",
      " 'No Experience vs 2-4 years': 0.8689776543645945,\n",
      " 'No Experience vs 5-6 or more years': 1.0}\n"
     ]
    }
   ],
   "source": [
    "# Example: Tranparency scores (Q4) grouped by Job Experience\n",
    "group1 = [5,5,5,4,4,4]  # No experience \n",
    "group2 = [4,5,5,4,4,4]  # 1 or less than 1 year\n",
    "group3 = [5,4,4,5,5,4,5]  # 2-4 years\n",
    "group4 = [4,5,5,4,4,5]  # 5-6 or more years\n",
    "\n",
    "print_mean_variance(groups=[group1, group2, group3, group4])\n",
    "\n",
    "# Perform Kruskal-Wallis H Test\n",
    "stat, p_value = stats.kruskal(group1, group2, group3, group4)\n",
    "print(f'Statistic: {stat:.4f}, p-value: {p_value:.4f}')\n",
    "\n",
    "# Interpretation\n",
    "alpha = 0.05\n",
    "if p_value < alpha:\n",
    "    print(\"Reject the null hypothesis: There is a significant difference between the groups.\")\n",
    "else:\n",
    "    print(\"Fail to reject the null hypothesis: No significant difference between the groups.\")\n",
    "\n",
    "print()\n",
    "print_pairwise_mannwhitneyu_job(groups=[group1, group2, group3, group4])\n"
   ]
  },
  {
   "cell_type": "markdown",
   "metadata": {},
   "source": [
    "## Q5 - Efficiency"
   ]
  },
  {
   "cell_type": "code",
   "execution_count": null,
   "metadata": {},
   "outputs": [
    {
     "name": "stdout",
     "output_type": "stream",
     "text": [
      "1) Mean: 4.0  Variance: 2.4\n",
      "2) Mean: 4.5  Variance: 0.3\n",
      "3) Mean: 4.714285714285714  Variance: 0.2380952380952381\n",
      "4) Mean: 4.5  Variance: 0.7\n",
      "\n",
      "Statistic: 1.0222, p-value: 0.7959\n",
      "Fail to reject the null hypothesis: No significant difference between the groups.\n",
      "\n",
      "{'1 or less than 1 year vs 2-4 years': 0.49896229860376107,\n",
      " '1 or less than 1 year vs 5-6 or more years': 0.8551321405847059,\n",
      " '2-4 years vs 5-6 or more years': 0.7918574908113246,\n",
      " 'No Experience vs 1 or less than 1 year': 0.8585862013366392,\n",
      " 'No Experience vs 2-4 years': 0.4069032257172982,\n",
      " 'No Experience vs 5-6 or more years': 0.6524683072570377}\n"
     ]
    }
   ],
   "source": [
    "# Example: Efficiency scores (Q5) grouped by Job Experience\n",
    "group1 = [5,4,5,4,1,5]  # No experience \n",
    "group2 = [4,5,5,4,5,4]  # 1 or less than 1 year\n",
    "group3 = [5,4,5,5,5,4,5]  # 2-4 years\n",
    "group4 = [5,5,4,5,3,5]  # 5-6 or more years\n",
    "\n",
    "print_mean_variance(groups=[group1, group2, group3, group4])\n",
    "\n",
    "# Perform Kruskal-Wallis H Test\n",
    "stat, p_value = stats.kruskal(group1, group2, group3, group4)\n",
    "print(f'Statistic: {stat:.4f}, p-value: {p_value:.4f}')\n",
    "\n",
    "# Interpretation\n",
    "alpha = 0.05\n",
    "if p_value < alpha:\n",
    "    print(\"Reject the null hypothesis: There is a significant difference between the groups.\")\n",
    "else:\n",
    "    print(\"Fail to reject the null hypothesis: No significant difference between the groups.\")\n",
    "\n",
    "print()\n",
    "print_pairwise_mannwhitneyu_job(groups=[group1, group2, group3, group4])"
   ]
  },
  {
   "cell_type": "markdown",
   "metadata": {},
   "source": [
    "## Q6 - Serendipity"
   ]
  },
  {
   "cell_type": "code",
   "execution_count": null,
   "metadata": {},
   "outputs": [
    {
     "name": "stdout",
     "output_type": "stream",
     "text": [
      "1) Mean: 0.6666666666666666  Variance: 0.2666666666666667\n",
      "2) Mean: 0.8333333333333334  Variance: 0.16666666666666669\n",
      "3) Mean: 1.0  Variance: 0.0\n",
      "4) Mean: 0.8333333333333334  Variance: 0.16666666666666669\n",
      "\n",
      "Statistic: 2.5714, p-value: 0.4625\n",
      "Fail to reject the null hypothesis: No significant difference between the groups.\n",
      "\n",
      "{'1 or less than 1 year vs 2-4 years': 0.3545394797735013,\n",
      " '1 or less than 1 year vs 5-6 or more years': 1.0,\n",
      " '2-4 years vs 5-6 or more years': 0.3545394797735013,\n",
      " 'No Experience vs 1 or less than 1 year': 0.5947925222500688,\n",
      " 'No Experience vs 2-4 years': 0.13847671503211711,\n",
      " 'No Experience vs 5-6 or more years': 0.5947925222500688}\n"
     ]
    }
   ],
   "source": [
    "# Example: Serendipity scores (Q6) grouped by Job Experience\n",
    "group1 = [1,1,1,1,0,0]  # No experience \n",
    "group2 = [0,1,1,1,1,1]  # 1 or less than 1 year\n",
    "group3 = [1,1,1,1,1,1,1]  # 2-4 years\n",
    "group4 = [0,1,1,1,1,1]  # 5-6 or more years\n",
    "\n",
    "print_mean_variance(groups=[group1, group2, group3, group4])\n",
    "\n",
    "# Perform Kruskal-Wallis H Test\n",
    "stat, p_value = stats.kruskal(group1, group2, group3, group4)\n",
    "print(f'Statistic: {stat:.4f}, p-value: {p_value:.4f}')\n",
    "\n",
    "# Interpretation\n",
    "alpha = 0.05\n",
    "if p_value < alpha:\n",
    "    print(\"Reject the null hypothesis: There is a significant difference between the groups.\")\n",
    "else:\n",
    "    print(\"Fail to reject the null hypothesis: No significant difference between the groups.\")\n",
    "\n",
    "print()\n",
    "print_pairwise_mannwhitneyu_job(groups=[group1, group2, group3, group4])"
   ]
  },
  {
   "cell_type": "markdown",
   "metadata": {},
   "source": [
    "## Q7 - Satisfaction (Likelihood Recommend)"
   ]
  },
  {
   "cell_type": "code",
   "execution_count": null,
   "metadata": {},
   "outputs": [
    {
     "name": "stdout",
     "output_type": "stream",
     "text": [
      "1) Mean: 2.8333333333333335  Variance: 2.1666666666666665\n",
      "2) Mean: 4.0  Variance: 1.2\n",
      "3) Mean: 4.571428571428571  Variance: 0.6190476190476191\n",
      "4) Mean: 4.0  Variance: 0.8\n",
      "\n",
      "Statistic: 6.0869, p-value: 0.1075\n",
      "Fail to reject the null hypothesis: No significant difference between the groups.\n",
      "\n",
      "{'1 or less than 1 year vs 2-4 years': 0.2690710808584812,\n",
      " '1 or less than 1 year vs 5-6 or more years': 0.9324274137022991,\n",
      " '2-4 years vs 5-6 or more years': 0.23792318863369843,\n",
      " 'No Experience vs 1 or less than 1 year': 0.18572044813922584,\n",
      " 'No Experience vs 2-4 years': 0.03457063098314926,\n",
      " 'No Experience vs 5-6 or more years': 0.16358371160503804}\n"
     ]
    }
   ],
   "source": [
    "# Example: Satisfaction scores (Q7) grouped by Job Experience\n",
    "group1 = [5,4,3,1,2,2]  # No experience \n",
    "group2 = [5,4,5,4,4,2]  # 1 or less than 1 year\n",
    "group3 = [4,5,5,5,3,5,5]  # 2-4 years\n",
    "group4 = [5,4,4,3,3,5]  # 5-6 or more years \n",
    "\n",
    "print_mean_variance(groups=[group1, group2, group3, group4])\n",
    "\n",
    "# Perform Kruskal-Wallis H Test\n",
    "stat, p_value = stats.kruskal(group1, group2, group3, group4)\n",
    "print(f'Statistic: {stat:.4f}, p-value: {p_value:.4f}')\n",
    "\n",
    "# Interpretation\n",
    "alpha = 0.05\n",
    "if p_value < alpha:\n",
    "    print(\"Reject the null hypothesis: There is a significant difference between the groups.\")\n",
    "else:\n",
    "    print(\"Fail to reject the null hypothesis: No significant difference between the groups.\")\n",
    "\n",
    "print()\n",
    "print_pairwise_mannwhitneyu_job(groups=[group1, group2, group3, group4])"
   ]
  },
  {
   "cell_type": "markdown",
   "metadata": {},
   "source": [
    "# Education Status"
   ]
  },
  {
   "cell_type": "code",
   "execution_count": 68,
   "metadata": {},
   "outputs": [],
   "source": [
    "def print_pairwise_mannwhitneyu_education(groups):\n",
    "    pairwise_results = {}\n",
    "    pairs = [\n",
    "        (\"Enrolled in Bachelor's vs Bachelor's\", groups[0], groups[1]),\n",
    "        (\"Enrolled in Bachelor's vs Enrolled in Master's or higher\", groups[0], groups[2]),\n",
    "        (\"Bachelor's vs Enrolled in Master's or higher\", groups[1], groups[2]),\n",
    "    ]\n",
    "\n",
    "    for name, g1, g2 in pairs:\n",
    "        u_stat, p_value = stats.mannwhitneyu(g1, g2)\n",
    "        pairwise_results[name] = p_value\n",
    "        \n",
    "    print(pformat(pairwise_results))"
   ]
  },
  {
   "cell_type": "markdown",
   "metadata": {},
   "source": [
    "## Q1 - Effectiveness"
   ]
  },
  {
   "cell_type": "code",
   "execution_count": 73,
   "metadata": {},
   "outputs": [
    {
     "name": "stdout",
     "output_type": "stream",
     "text": [
      "1) Mean: 3.4285714285714284  Variance: 0.9523809523809526\n",
      "2) Mean: 4.416666666666667  Variance: 0.6287878787878788\n",
      "3) Mean: 3.8333333333333335  Variance: 0.16666666666666666\n",
      "\n",
      "Statistic: 5.9859, p-value: 0.0501\n",
      "Fail to reject the null hypothesis: No significant difference between the groups.\n",
      "\n",
      "{\"Bachelor's vs Enrolled in Master's or higher\": 0.0844256385689984,\n",
      " \"Enrolled in Bachelor's vs Bachelor's\": 0.03948831489253008,\n",
      " \"Enrolled in Bachelor's vs Enrolled in Master's or higher\": 0.34347678274232396}\n"
     ]
    }
   ],
   "source": [
    "# Example: Effectiveness scores (Q1) grouped by Education Level\n",
    "\n",
    "group1 = [4,5,4,3,3,2,3]  # Currently Enrolled in Bachelor's Degree Program\n",
    "group2 = [4,4,5,5,5,5,3,3,4,5,5,5]  # Bachelor's Degree\n",
    "group3 = [4,4,4,4,4,3]  # Master's Degree or Currently Enrolled in Master's Degree Program\n",
    "\n",
    "print_mean_variance(groups=[group1, group2, group3])\n",
    "\n",
    "# Perform Kruskal-Wallis H Test\n",
    "stat, p_value = stats.kruskal(group1, group2, group3)\n",
    "print(f'Statistic: {stat:.4f}, p-value: {p_value:.4f}')\n",
    "\n",
    "# Interpretation\n",
    "alpha = 0.05\n",
    "if p_value < alpha:\n",
    "    print(\"Reject the null hypothesis: There is a significant difference between the groups.\")\n",
    "else:\n",
    "    print(\"Fail to reject the null hypothesis: No significant difference between the groups.\")\n",
    "\n",
    "print()\n",
    "print_pairwise_mannwhitneyu_education(groups=[group1, group2, group3])"
   ]
  },
  {
   "cell_type": "markdown",
   "metadata": {},
   "source": [
    "## Q2 - Satisfaction (Likelihood Use)"
   ]
  },
  {
   "cell_type": "code",
   "execution_count": 75,
   "metadata": {},
   "outputs": [
    {
     "name": "stdout",
     "output_type": "stream",
     "text": [
      "1) Mean: 2.4285714285714284  Variance: 2.2857142857142856\n",
      "2) Mean: 4.0  Variance: 0.5454545454545454\n",
      "3) Mean: 3.6666666666666665  Variance: 0.6666666666666666\n",
      "\n",
      "Statistic: 5.5652, p-value: 0.0619\n",
      "Fail to reject the null hypothesis: No significant difference between the groups.\n",
      "\n",
      "{\"Bachelor's vs Enrolled in Master's or higher\": 0.5558178266295648,\n",
      " \"Enrolled in Bachelor's vs Bachelor's\": 0.028814333031106323,\n",
      " \"Enrolled in Bachelor's vs Enrolled in Master's or higher\": 0.14650524871655232}\n"
     ]
    }
   ],
   "source": [
    "# Example: Satisfaction scores (Q2) grouped by Education Level\n",
    "\n",
    "group1 = [2,5,4,2,1,1,2]  # Currently Enrolled in Bachelor's Degree Program\n",
    "group2 = [4,4,5,4,3,4,3,3,4,4,5,5]  # Bachelor's Degree\n",
    "group3 = [4,4,4,4,4,2]  # Master's Degree or Currently Enrolled in Master's Degree Program\n",
    "\n",
    "print_mean_variance(groups=[group1, group2, group3])\n",
    "\n",
    "# Perform Kruskal-Wallis H Test\n",
    "stat, p_value = stats.kruskal(group1, group2, group3)\n",
    "print(f'Statistic: {stat:.4f}, p-value: {p_value:.4f}')\n",
    "\n",
    "# Interpretation\n",
    "alpha = 0.05\n",
    "if p_value < alpha:\n",
    "    print(\"Reject the null hypothesis: There is a significant difference between the groups.\")\n",
    "else:\n",
    "    print(\"Fail to reject the null hypothesis: No significant difference between the groups.\")\n",
    "\n",
    "print()\n",
    "print_pairwise_mannwhitneyu_education(groups=[group1, group2, group3])"
   ]
  },
  {
   "cell_type": "markdown",
   "metadata": {},
   "source": [
    "## Q3 - Persuasiveness"
   ]
  },
  {
   "cell_type": "code",
   "execution_count": 76,
   "metadata": {},
   "outputs": [
    {
     "name": "stdout",
     "output_type": "stream",
     "text": [
      "1) Mean: 3.142857142857143  Variance: 0.4761904761904763\n",
      "2) Mean: 4.083333333333333  Variance: 0.26515151515151514\n",
      "3) Mean: 4.0  Variance: 2.4\n",
      "\n",
      "Statistic: 7.5095, p-value: 0.0234\n",
      "Reject the null hypothesis: There is a significant difference between the groups.\n",
      "\n",
      "{\"Bachelor's vs Enrolled in Master's or higher\": 0.41802384534847326,\n",
      " \"Enrolled in Bachelor's vs Bachelor's\": 0.006679832764253187,\n",
      " \"Enrolled in Bachelor's vs Enrolled in Master's or higher\": 0.08915882419322943}\n"
     ]
    }
   ],
   "source": [
    "# Example: Persuasiveness scores (Q3) grouped by Education Level\n",
    "\n",
    "group1 = [3,4,4,3,3,3,2]  # Currently Enrolled in Bachelor's Degree Program\n",
    "group2 = [4,4,3,4,4,4,4,4,4,5,5,4]  # Bachelor's Degree\n",
    "group3 = [5,4,4,5,5,1]  # Master's Degree or Currently Enrolled in Master's Degree Program\n",
    "\n",
    "print_mean_variance(groups=[group1, group2, group3])\n",
    "\n",
    "# Perform Kruskal-Wallis H Test\n",
    "stat, p_value = stats.kruskal(group1, group2, group3)\n",
    "print(f'Statistic: {stat:.4f}, p-value: {p_value:.4f}')\n",
    "\n",
    "# Interpretation\n",
    "alpha = 0.05\n",
    "if p_value < alpha:\n",
    "    print(\"Reject the null hypothesis: There is a significant difference between the groups.\")\n",
    "else:\n",
    "    print(\"Fail to reject the null hypothesis: No significant difference between the groups.\")\n",
    "\n",
    "print()\n",
    "print_pairwise_mannwhitneyu_education(groups=[group1, group2, group3])"
   ]
  },
  {
   "cell_type": "markdown",
   "metadata": {},
   "source": [
    "## Q4 - Tranparency (Explanations)"
   ]
  },
  {
   "cell_type": "code",
   "execution_count": 77,
   "metadata": {},
   "outputs": [
    {
     "name": "stdout",
     "output_type": "stream",
     "text": [
      "1) Mean: 4.571428571428571  Variance: 0.2857142857142857\n",
      "2) Mean: 4.5  Variance: 0.2727272727272727\n",
      "3) Mean: 4.333333333333333  Variance: 0.2666666666666667\n",
      "\n",
      "Statistic: 0.7399, p-value: 0.6908\n",
      "Fail to reject the null hypothesis: No significant difference between the groups.\n",
      "\n",
      "{\"Bachelor's vs Enrolled in Master's or higher\": 0.5501111664787972,\n",
      " \"Enrolled in Bachelor's vs Bachelor's\": 0.8072501679320072,\n",
      " \"Enrolled in Bachelor's vs Enrolled in Master's or higher\": 0.45790105544025483}\n"
     ]
    }
   ],
   "source": [
    "# Example: Tranparency scores (Q4) grouped by Education Level\n",
    "\n",
    "group1 = [5,5,5,5,4,4,4]  # Currently Enrolled in Bachelor's Degree Program\n",
    "group2 = [5,4,5,5,4,4,4,4,5,4,5,5]  # Bachelor's Degree\n",
    "group3 = [4,4,5,4,5,4]  # Master's Degree or Currently Enrolled in Master's Degree Program\n",
    "\n",
    "print_mean_variance(groups=[group1, group2, group3])\n",
    "\n",
    "# Perform Kruskal-Wallis H Test\n",
    "stat, p_value = stats.kruskal(group1, group2, group3)\n",
    "print(f'Statistic: {stat:.4f}, p-value: {p_value:.4f}')\n",
    "\n",
    "# Interpretation\n",
    "alpha = 0.05\n",
    "if p_value < alpha:\n",
    "    print(\"Reject the null hypothesis: There is a significant difference between the groups.\")\n",
    "else:\n",
    "    print(\"Fail to reject the null hypothesis: No significant difference between the groups.\")\n",
    "\n",
    "print()\n",
    "print_pairwise_mannwhitneyu_education(groups=[group1, group2, group3])\n"
   ]
  },
  {
   "cell_type": "markdown",
   "metadata": {},
   "source": [
    "## Q5 - Efficiency"
   ]
  },
  {
   "cell_type": "code",
   "execution_count": 79,
   "metadata": {},
   "outputs": [
    {
     "name": "stdout",
     "output_type": "stream",
     "text": [
      "1) Mean: 4.142857142857143  Variance: 2.142857142857143\n",
      "2) Mean: 4.5  Variance: 0.45454545454545453\n",
      "3) Mean: 4.666666666666667  Variance: 0.2666666666666667\n",
      "\n",
      "Statistic: 0.2962, p-value: 0.8623\n",
      "Fail to reject the null hypothesis: No significant difference between the groups.\n",
      "\n",
      "{\"Bachelor's vs Enrolled in Master's or higher\": 0.7025494055759491,\n",
      " \"Enrolled in Bachelor's vs Bachelor's\": 0.8855932401263382,\n",
      " \"Enrolled in Bachelor's vs Enrolled in Master's or higher\": 0.6783777911837441}\n"
     ]
    }
   ],
   "source": [
    "# Example: Efficiency scores (Q5) grouped by Education Level\n",
    "\n",
    "group1 = [5,5,4,5,4,1,5]  # Currently Enrolled in Bachelor's Degree Program\n",
    "group2 = [5,4,4,5,5,4,5,3,5,4,5,5]  # Bachelor's Degree\n",
    "group3 = [5,4,5,5,5,4]  # Master's Degree or Currently Enrolled in Master's Degree Program\n",
    "\n",
    "print_mean_variance(groups=[group1, group2, group3])\n",
    "\n",
    "# Perform Kruskal-Wallis H Test\n",
    "stat, p_value = stats.kruskal(group1, group2, group3)\n",
    "print(f'Statistic: {stat:.4f}, p-value: {p_value:.4f}')\n",
    "\n",
    "# Interpretation\n",
    "alpha = 0.05\n",
    "if p_value < alpha:\n",
    "    print(\"Reject the null hypothesis: There is a significant difference between the groups.\")\n",
    "else:\n",
    "    print(\"Fail to reject the null hypothesis: No significant difference between the groups.\")\n",
    "\n",
    "print()\n",
    "print_pairwise_mannwhitneyu_education(groups=[group1, group2, group3])"
   ]
  },
  {
   "cell_type": "markdown",
   "metadata": {},
   "source": [
    "## Q6 - Serendipity"
   ]
  },
  {
   "cell_type": "code",
   "execution_count": 80,
   "metadata": {},
   "outputs": [
    {
     "name": "stdout",
     "output_type": "stream",
     "text": [
      "1) Mean: 0.7142857142857143  Variance: 0.23809523809523805\n",
      "2) Mean: 0.9166666666666666  Variance: 0.08333333333333331\n",
      "3) Mean: 0.8333333333333334  Variance: 0.16666666666666669\n",
      "\n",
      "Statistic: 1.2959, p-value: 0.5231\n",
      "Fail to reject the null hypothesis: No significant difference between the groups.\n",
      "\n",
      "{\"Bachelor's vs Enrolled in Master's or higher\": 0.667566546522999,\n",
      " \"Enrolled in Bachelor's vs Bachelor's\": 0.28504940740261275,\n",
      " \"Enrolled in Bachelor's vs Enrolled in Master's or higher\": 0.6962703401140228}\n"
     ]
    }
   ],
   "source": [
    "# Example: Serendipity scores (Q6) grouped by Education Level\n",
    "\n",
    "group1 = [1,1,1,1,1,0,0]  # Currently Enrolled in Bachelor's Degree Program\n",
    "group2 = [1,0,1,1,1,1,1,1,1,1,1,1]  # Bachelor's Degree\n",
    "group3 = [0,1,1,1,1,1]  # Master's Degree or Currently Enrolled in Master's Degree Program\n",
    "\n",
    "print_mean_variance(groups=[group1, group2, group3])\n",
    "\n",
    "# Perform Kruskal-Wallis H Test\n",
    "stat, p_value = stats.kruskal(group1, group2, group3)\n",
    "print(f'Statistic: {stat:.4f}, p-value: {p_value:.4f}')\n",
    "\n",
    "# Interpretation\n",
    "alpha = 0.05\n",
    "if p_value < alpha:\n",
    "    print(\"Reject the null hypothesis: There is a significant difference between the groups.\")\n",
    "else:\n",
    "    print(\"Fail to reject the null hypothesis: No significant difference between the groups.\")\n",
    "\n",
    "print()\n",
    "print_pairwise_mannwhitneyu_education(groups=[group1, group2, group3])"
   ]
  },
  {
   "cell_type": "markdown",
   "metadata": {},
   "source": [
    "## Q7 - Satisfaction (Likelihood Recommend)"
   ]
  },
  {
   "cell_type": "code",
   "execution_count": 82,
   "metadata": {},
   "outputs": [
    {
     "name": "stdout",
     "output_type": "stream",
     "text": [
      "1) Mean: 3.0  Variance: 2.0\n",
      "2) Mean: 4.333333333333333  Variance: 0.606060606060606\n",
      "3) Mean: 4.0  Variance: 1.6\n",
      "\n",
      "Statistic: 4.5680, p-value: 0.1019\n",
      "Fail to reject the null hypothesis: No significant difference between the groups.\n",
      "\n",
      "{\"Bachelor's vs Enrolled in Master's or higher\": 0.7223922320580086,\n",
      " \"Enrolled in Bachelor's vs Bachelor's\": 0.037947615901302315,\n",
      " \"Enrolled in Bachelor's vs Enrolled in Master's or higher\": 0.21229687835647493}\n"
     ]
    }
   ],
   "source": [
    "# Example: Satisfaction scores (Q7) grouped by Education Level\n",
    "\n",
    "group1 = [4,5,4,3,1,2,2]  # Currently Enrolled in Bachelor's Degree Program\n",
    "group2 = [4,5,4,5,3,4,4,3,5,5,5,5]  # Bachelor's Degree\n",
    "group3 = [5,5,4,5,3,2]  # Master's Degree or Currently Enrolled in Master's Degree Program\n",
    "\n",
    "print_mean_variance(groups=[group1, group2, group3])\n",
    "\n",
    "# Perform Kruskal-Wallis H Test\n",
    "stat, p_value = stats.kruskal(group1, group2, group3)\n",
    "print(f'Statistic: {stat:.4f}, p-value: {p_value:.4f}')\n",
    "\n",
    "# Interpretation\n",
    "alpha = 0.05\n",
    "if p_value < alpha:\n",
    "    print(\"Reject the null hypothesis: There is a significant difference between the groups.\")\n",
    "else:\n",
    "    print(\"Fail to reject the null hypothesis: No significant difference between the groups.\")\n",
    "\n",
    "print()\n",
    "print_pairwise_mannwhitneyu_education(groups=[group1, group2, group3])"
   ]
  }
 ],
 "metadata": {
  "kernelspec": {
   "display_name": "base",
   "language": "python",
   "name": "python3"
  },
  "language_info": {
   "codemirror_mode": {
    "name": "ipython",
    "version": 3
   },
   "file_extension": ".py",
   "mimetype": "text/x-python",
   "name": "python",
   "nbconvert_exporter": "python",
   "pygments_lexer": "ipython3",
   "version": "3.11.7"
  }
 },
 "nbformat": 4,
 "nbformat_minor": 2
}
