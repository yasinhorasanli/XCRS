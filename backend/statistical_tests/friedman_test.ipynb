{
 "cells": [
  {
   "cell_type": "code",
   "execution_count": 4,
   "metadata": {},
   "outputs": [
    {
     "name": "stdout",
     "output_type": "stream",
     "text": [
      "Statistic: 27.9194, p-value: 0.0000\n",
      "Reject the null hypothesis: There is a significant difference between the responses.\n"
     ]
    }
   ],
   "source": [
    "from scipy import stats\n",
    "\n",
    "# Example data: Replace these lists with your actual survey responses\n",
    "# Each list represents the responses for one question from the same group of participants\n",
    "effectiveness =         [4,4,4,4,4,4,5,5,5,5,3,5,4,4,3,3,3,2,4,4,3,3,5,5,5]     # q1\n",
    "likelihood_use =        [4,4,4,4,4,2,5,4,3,4,3,5,4,4,3,2,1,1,4,4,2,2,4,5,5]     # q2 - satisfaction\n",
    "persuasiveness =        [5,4,4,4,4,3,3,4,4,4,4,4,4,5,4,3,3,3,4,5,2,1,5,5,4]     # q3\n",
    "transparency =          [4,5,4,4,5,5,5,5,4,4,4,5,5,4,4,5,4,4,5,5,4,4,4,5,5]     # q4\n",
    "efficiency =            [5,5,4,4,5,5,4,5,5,4,5,5,4,5,3,5,4,1,5,5,5,4,4,5,5]     # q5\n",
    "# serendipity --> 21 yes, 4 no                                                   # q6\n",
    "likelihood_recommend =  [5,4,5,5,4,4,4,5,3,4,4,5,4,5,3,3,1,2,5,3,2,2,5,5,5]     # q7\n",
    "\n",
    "# Combine the data into a single array\n",
    "data = [effectiveness, likelihood_use, persuasiveness, transparency, efficiency, likelihood_recommend]\n",
    "\n",
    "# Perform Friedman test\n",
    "stat, p_value = stats.friedmanchisquare(*data)\n",
    "\n",
    "print(f'Statistic: {stat:.4f}, p-value: {p_value:.4f}')\n",
    "\n",
    "# Interpretation\n",
    "alpha = 0.05\n",
    "if p_value < alpha:\n",
    "    print(\"Reject the null hypothesis: There is a significant difference between the responses.\")\n",
    "else:\n",
    "    print(\"Fail to reject the null hypothesis: No significant difference between the responses.\")\n"
   ]
  }
 ],
 "metadata": {
  "kernelspec": {
   "display_name": "base",
   "language": "python",
   "name": "python3"
  },
  "language_info": {
   "codemirror_mode": {
    "name": "ipython",
    "version": 3
   },
   "file_extension": ".py",
   "mimetype": "text/x-python",
   "name": "python",
   "nbconvert_exporter": "python",
   "pygments_lexer": "ipython3",
   "version": "3.11.7"
  }
 },
 "nbformat": 4,
 "nbformat_minor": 2
}
