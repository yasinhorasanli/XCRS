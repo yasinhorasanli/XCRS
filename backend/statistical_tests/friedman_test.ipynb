{
 "cells": [
  {
   "cell_type": "code",
   "execution_count": 4,
   "metadata": {},
   "outputs": [
    {
     "name": "stdout",
     "output_type": "stream",
     "text": [
      "Statistic: 27.9194079, p-value: 0.0000377432\n",
      "Reject the null hypothesis: There is a significant difference between the responses.\n"
     ]
    }
   ],
   "source": [
    "from scipy import stats\n",
    "\n",
    "# Each list represents the responses for one question from the same group of participants\n",
    "effectiveness =         [4,4,4,4,4,4,5,5,5,5,3,5,4,4,3,3,3,2,4,4,3,3,5,5,5]     # q1\n",
    "likelihood_use =        [4,4,4,4,4,2,5,4,3,4,3,5,4,4,3,2,1,1,4,4,2,2,4,5,5]     # q2 - satisfaction\n",
    "persuasiveness =        [5,4,4,4,4,3,3,4,4,4,4,4,4,5,4,3,3,3,4,5,2,1,5,5,4]     # q3\n",
    "transparency =          [4,5,4,4,5,5,5,5,4,4,4,5,5,4,4,5,4,4,5,5,4,4,4,5,5]     # q4\n",
    "efficiency =            [5,5,4,4,5,5,4,5,5,4,5,5,4,5,3,5,4,1,5,5,5,4,4,5,5]     # q5\n",
    "# serendipity =           [0,1,1,0,1,1,1,1,1,1,1,1,1,1,1,1,1,0,1,1,0,1,1,1,1]     # q6  -- yes/no\n",
    "likelihood_recommend =  [5,4,5,5,4,4,4,5,3,4,4,5,4,5,3,3,1,2,5,3,2,2,5,5,5]     # q7\n",
    "\n",
    "# Combine the data into a single array\n",
    "data = [effectiveness, likelihood_use, persuasiveness, transparency, efficiency, likelihood_recommend]\n",
    "\n",
    "# Perform Friedman test\n",
    "stat, p_value = stats.friedmanchisquare(*data)\n",
    "\n",
    "print(f'Statistic: {stat:.7f}, p-value: {p_value:.10f}')\n",
    "\n",
    "# Interpretation\n",
    "alpha = 0.05\n",
    "if p_value < alpha:\n",
    "    print(\"Reject the null hypothesis: There is a significant difference between the responses.\")\n",
    "else:\n",
    "    print(\"Fail to reject the null hypothesis: No significant difference between the responses.\")\n"
   ]
  },
  {
   "cell_type": "markdown",
   "metadata": {},
   "source": [
    "# Employment Status"
   ]
  },
  {
   "cell_type": "markdown",
   "metadata": {},
   "source": [
    "### Unemployment"
   ]
  },
  {
   "cell_type": "code",
   "execution_count": 5,
   "metadata": {},
   "outputs": [
    {
     "name": "stdout",
     "output_type": "stream",
     "text": [
      "Statistic: 8.3333333, p-value: 0.1387966277\n",
      "Fail to reject the null hypothesis: No significant difference between the responses.\n"
     ]
    }
   ],
   "source": [
    "# Each list represents the responses for one question from Unemployment\n",
    "effectiveness =         [5,3,5]     # q1\n",
    "likelihood_use =        [4,2,5]     # q2 - satisfaction\n",
    "persuasiveness =        [4,1,4]     # q3\n",
    "transparency =          [4,4,5]     # q4\n",
    "efficiency =            [4,4,5]     # q5\n",
    "# serendipity =           [1,1,1]     # q6  -- yes/no\n",
    "likelihood_recommend =  [4,2,5]     # q7\n",
    "\n",
    "# Combine the data into a single array\n",
    "data = [effectiveness, likelihood_use, persuasiveness, transparency, efficiency, likelihood_recommend]\n",
    "\n",
    "# Perform Friedman test\n",
    "stat, p_value = stats.friedmanchisquare(*data)\n",
    "\n",
    "print(f'Statistic: {stat:.7f}, p-value: {p_value:.10f}')\n",
    "\n",
    "# Interpretation\n",
    "alpha = 0.05\n",
    "if p_value < alpha:\n",
    "    print(\"Reject the null hypothesis: There is a significant difference between the responses.\")\n",
    "else:\n",
    "    print(\"Fail to reject the null hypothesis: No significant difference between the responses.\")"
   ]
  },
  {
   "cell_type": "markdown",
   "metadata": {},
   "source": [
    "### Studying"
   ]
  },
  {
   "cell_type": "code",
   "execution_count": 8,
   "metadata": {},
   "outputs": [
    {
     "name": "stdout",
     "output_type": "stream",
     "text": [
      "Statistic: 14.9679487, p-value: 0.0105001696\n",
      "Reject the null hypothesis: There is a significant difference between the responses.\n"
     ]
    }
   ],
   "source": [
    "# Each list represents the responses for one question from Studying\n",
    "effectiveness =         [5,4,3,3,2,3]     # q1\n",
    "likelihood_use =        [5,4,2,1,1,2]     # q2 - satisfaction\n",
    "persuasiveness =        [4,4,3,3,3,2]     # q3\n",
    "transparency =          [5,5,5,4,4,4]     # q4\n",
    "efficiency =            [5,4,5,4,1,5]     # q5\n",
    "# serendipity =           [1,1,1,1,0,0]     # q6  -- yes/no\n",
    "likelihood_recommend =  [5,4,3,1,2,2]     # q7\n",
    "\n",
    "# Combine the data into a single array\n",
    "data = [effectiveness, likelihood_use, persuasiveness, transparency, efficiency, likelihood_recommend]\n",
    "\n",
    "# Perform Friedman test\n",
    "stat, p_value = stats.friedmanchisquare(*data)\n",
    "\n",
    "print(f'Statistic: {stat:.7f}, p-value: {p_value:.10f}')\n",
    "\n",
    "# Interpretation\n",
    "alpha = 0.05\n",
    "if p_value < alpha:\n",
    "    print(\"Reject the null hypothesis: There is a significant difference between the responses.\")\n",
    "else:\n",
    "    print(\"Fail to reject the null hypothesis: No significant difference between the responses.\")"
   ]
  },
  {
   "cell_type": "markdown",
   "metadata": {},
   "source": [
    "### Working"
   ]
  },
  {
   "cell_type": "code",
   "execution_count": 10,
   "metadata": {},
   "outputs": [
    {
     "name": "stdout",
     "output_type": "stream",
     "text": [
      "Statistic: 11.7515924, p-value: 0.0383547183\n",
      "Reject the null hypothesis: There is a significant difference between the responses.\n"
     ]
    }
   ],
   "source": [
    "# Each list represents the responses for one question from Working\n",
    "effectiveness =         [4,4,4,5,5,5,3,4,3,4,4,5,5]     # q1\n",
    "likelihood_use =        [4,4,4,5,4,3,3,4,3,4,4,4,5]     # q2 - satisfaction\n",
    "persuasiveness =        [4,4,4,3,4,4,4,5,4,4,5,5,5]     # q3\n",
    "transparency =          [5,4,5,5,5,4,4,4,4,5,5,4,5]     # q4\n",
    "efficiency =            [5,4,5,4,5,5,5,5,3,5,5,4,5]     # q5\n",
    "# serendipity =           [1,0,1,1,1,1,1,1,1,1,1,1,1]     # q6  -- yes/no\n",
    "likelihood_recommend =  [4,5,4,4,5,3,4,5,3,5,3,5,5]     # q7\n",
    "\n",
    "# Combine the data into a single array\n",
    "data = [effectiveness, likelihood_use, persuasiveness, transparency, efficiency, likelihood_recommend]\n",
    "\n",
    "# Perform Friedman test\n",
    "stat, p_value = stats.friedmanchisquare(*data)\n",
    "\n",
    "print(f'Statistic: {stat:.7f}, p-value: {p_value:.10f}')\n",
    "\n",
    "# Interpretation\n",
    "alpha = 0.05\n",
    "if p_value < alpha:\n",
    "    print(\"Reject the null hypothesis: There is a significant difference between the responses.\")\n",
    "else:\n",
    "    print(\"Fail to reject the null hypothesis: No significant difference between the responses.\")"
   ]
  },
  {
   "cell_type": "markdown",
   "metadata": {},
   "source": [
    "### Studying and Working "
   ]
  },
  {
   "cell_type": "code",
   "execution_count": 11,
   "metadata": {},
   "outputs": [
    {
     "name": "stdout",
     "output_type": "stream",
     "text": [
      "Statistic: 6.6000000, p-value: 0.2521281508\n",
      "Fail to reject the null hypothesis: No significant difference between the responses.\n"
     ]
    }
   ],
   "source": [
    "# Each list represents the responses for one question from Studying and Working\n",
    "effectiveness =         [4,4,4]     # q1\n",
    "likelihood_use =        [4,4,2]     # q2 - satisfaction\n",
    "persuasiveness =        [5,4,3]     # q3\n",
    "transparency =          [4,4,5]     # q4\n",
    "efficiency =            [5,4,5]     # q5\n",
    "# serendipity =           [0,1,1]     # q6  -- yes/no\n",
    "likelihood_recommend =  [5,5,4]     # q7\n",
    "\n",
    "# Combine the data into a single array\n",
    "data = [effectiveness, likelihood_use, persuasiveness, transparency, efficiency, likelihood_recommend]\n",
    "\n",
    "# Perform Friedman test\n",
    "stat, p_value = stats.friedmanchisquare(*data)\n",
    "\n",
    "print(f'Statistic: {stat:.7f}, p-value: {p_value:.10f}')\n",
    "\n",
    "# Interpretation\n",
    "alpha = 0.05\n",
    "if p_value < alpha:\n",
    "    print(\"Reject the null hypothesis: There is a significant difference between the responses.\")\n",
    "else:\n",
    "    print(\"Fail to reject the null hypothesis: No significant difference between the responses.\")"
   ]
  },
  {
   "cell_type": "markdown",
   "metadata": {},
   "source": [
    "# Job Experience"
   ]
  },
  {
   "cell_type": "markdown",
   "metadata": {},
   "source": [
    "### No experience"
   ]
  },
  {
   "cell_type": "code",
   "execution_count": null,
   "metadata": {},
   "outputs": [
    {
     "name": "stdout",
     "output_type": "stream",
     "text": [
      "Statistic: 14.9679487, p-value: 0.0105001696\n",
      "Reject the null hypothesis: There is a significant difference between the responses.\n"
     ]
    }
   ],
   "source": [
    "# Each list represents the responses for one question from No Experience\n",
    "effectiveness =         [5,4,3,3,2,3]     # q1\n",
    "likelihood_use =        [5,4,2,1,1,2]     # q2 - satisfaction\n",
    "persuasiveness =        [4,4,3,3,3,2]     # q3\n",
    "transparency =          [5,5,5,4,4,4]     # q4\n",
    "efficiency =            [5,4,5,4,1,5]     # q5\n",
    "# serendipity =           [1,1,1,1,0,0]     # q6  -- yes/no\n",
    "likelihood_recommend =  [5,4,3,1,2,2]     # q7\n",
    "\n",
    "# Combine the data into a single array\n",
    "data = [effectiveness, likelihood_use, persuasiveness, transparency, efficiency, likelihood_recommend]\n",
    "\n",
    "# Perform Friedman test\n",
    "stat, p_value = stats.friedmanchisquare(*data)\n",
    "\n",
    "print(f'Statistic: {stat:.7f}, p-value: {p_value:.10f}')\n",
    "\n",
    "# Interpretation\n",
    "alpha = 0.05\n",
    "if p_value < alpha:\n",
    "    print(\"Reject the null hypothesis: There is a significant difference between the responses.\")\n",
    "else:\n",
    "    print(\"Fail to reject the null hypothesis: No significant difference between the responses.\")"
   ]
  },
  {
   "cell_type": "markdown",
   "metadata": {},
   "source": [
    "### 1 or less than 1 year"
   ]
  },
  {
   "cell_type": "code",
   "execution_count": null,
   "metadata": {},
   "outputs": [
    {
     "name": "stdout",
     "output_type": "stream",
     "text": [
      "Statistic: 12.3666667, p-value: 0.0300947529\n",
      "Reject the null hypothesis: There is a significant difference between the responses.\n"
     ]
    }
   ],
   "source": [
    "# Each list represents the responses for one question from 1 or less than 1 year\n",
    "effectiveness =         [4,4,5,5,3,3]     # q1\n",
    "likelihood_use =        [4,2,4,4,3,2]     # q2 - satisfaction\n",
    "persuasiveness =        [4,3,4,4,4,1]     # q3\n",
    "transparency =          [4,5,5,4,4,4]     # q4\n",
    "efficiency =            [4,5,5,4,5,4]     # q5\n",
    "# serendipity =           [0,1,1,1,1,1]     # q6  -- yes/no\n",
    "likelihood_recommend =  [5,4,5,4,4,2]     # q7\n",
    "\n",
    "# Combine the data into a single array\n",
    "data = [effectiveness, likelihood_use, persuasiveness, transparency, efficiency, likelihood_recommend]\n",
    "\n",
    "# Perform Friedman test\n",
    "stat, p_value = stats.friedmanchisquare(*data)\n",
    "\n",
    "print(f'Statistic: {stat:.7f}, p-value: {p_value:.10f}')\n",
    "\n",
    "# Interpretation\n",
    "alpha = 0.05\n",
    "if p_value < alpha:\n",
    "    print(\"Reject the null hypothesis: There is a significant difference between the responses.\")\n",
    "else:\n",
    "    print(\"Fail to reject the null hypothesis: No significant difference between the responses.\")"
   ]
  },
  {
   "cell_type": "markdown",
   "metadata": {},
   "source": [
    "### 2-4 years"
   ]
  },
  {
   "cell_type": "code",
   "execution_count": null,
   "metadata": {},
   "outputs": [
    {
     "name": "stdout",
     "output_type": "stream",
     "text": [
      "Statistic: 6.8000000, p-value: 0.2359445377\n",
      "Fail to reject the null hypothesis: No significant difference between the responses.\n"
     ]
    }
   ],
   "source": [
    "# Each list represents the responses for one question from 2-4 years\n",
    "effectiveness =         [4,4,4,4,4,5,5]     # q1\n",
    "likelihood_use =        [4,4,4,4,4,4,5]     # q2 - satisfaction\n",
    "persuasiveness =        [4,4,5,4,5,5,5]     # q3\n",
    "transparency =          [5,4,4,5,5,4,5]     # q4\n",
    "efficiency =            [5,4,5,5,5,4,5]     # q5\n",
    "# serendipity =           [1,1,1,1,1,1,1]     # q6  -- yes/no\n",
    "likelihood_recommend =  [4,5,5,5,3,5,5]     # q7\n",
    "\n",
    "# Combine the data into a single array\n",
    "data = [effectiveness, likelihood_use, persuasiveness, transparency, efficiency, likelihood_recommend]\n",
    "\n",
    "# Perform Friedman test\n",
    "stat, p_value = stats.friedmanchisquare(*data)\n",
    "\n",
    "print(f'Statistic: {stat:.7f}, p-value: {p_value:.10f}')\n",
    "\n",
    "# Interpretation\n",
    "alpha = 0.05\n",
    "if p_value < alpha:\n",
    "    print(\"Reject the null hypothesis: There is a significant difference between the responses.\")\n",
    "else:\n",
    "    print(\"Fail to reject the null hypothesis: No significant difference between the responses.\")"
   ]
  },
  {
   "cell_type": "markdown",
   "metadata": {},
   "source": [
    "### 5-6 or more years"
   ]
  },
  {
   "cell_type": "code",
   "execution_count": null,
   "metadata": {},
   "outputs": [
    {
     "name": "stdout",
     "output_type": "stream",
     "text": [
      "Statistic: 4.2105263, p-value: 0.5195206273\n",
      "Fail to reject the null hypothesis: No significant difference between the responses.\n"
     ]
    }
   ],
   "source": [
    "# Each list represents the responses for one question from 5-6 or more years\n",
    "effectiveness =         [4,4,5,5,3,5]     # q1\n",
    "likelihood_use =        [4,4,5,3,3,5]     # q2 - satisfaction\n",
    "persuasiveness =        [5,4,3,4,4,4]     # q3\n",
    "transparency =          [4,5,5,4,4,5]     # q4\n",
    "efficiency =            [5,5,4,5,3,5]     # q5\n",
    "# serendipity =           [0,1,1,1,1,1]     # q6  -- yes/no\n",
    "likelihood_recommend =  [5,4,4,3,3,5]     # q7\n",
    "\n",
    "# Combine the data into a single array\n",
    "data = [effectiveness, likelihood_use, persuasiveness, transparency, efficiency, likelihood_recommend]\n",
    "\n",
    "# Perform Friedman test\n",
    "stat, p_value = stats.friedmanchisquare(*data)\n",
    "\n",
    "print(f'Statistic: {stat:.7f}, p-value: {p_value:.10f}')\n",
    "\n",
    "# Interpretation\n",
    "alpha = 0.05\n",
    "if p_value < alpha:\n",
    "    print(\"Reject the null hypothesis: There is a significant difference between the responses.\")\n",
    "else:\n",
    "    print(\"Fail to reject the null hypothesis: No significant difference between the responses.\")"
   ]
  },
  {
   "cell_type": "markdown",
   "metadata": {},
   "source": [
    "# Education Level"
   ]
  },
  {
   "cell_type": "markdown",
   "metadata": {},
   "source": [
    "### Currently Enrolled in Bachelor's Degree Program"
   ]
  },
  {
   "cell_type": "code",
   "execution_count": 17,
   "metadata": {},
   "outputs": [
    {
     "name": "stdout",
     "output_type": "stream",
     "text": [
      "Statistic: 19.1798942, p-value: 0.0017793181\n",
      "Reject the null hypothesis: There is a significant difference between the responses.\n"
     ]
    }
   ],
   "source": [
    "# Each list represents the responses for one question from Enrolled in Bachelor's Degree Program\n",
    "effectiveness =         [4,5,4,3,3,2,3]     # q1\n",
    "likelihood_use =        [2,5,4,2,1,1,2]     # q2 - satisfaction\n",
    "persuasiveness =        [3,4,4,3,3,3,2]     # q3\n",
    "transparency =          [5,5,5,5,4,4,4]     # q4\n",
    "efficiency =            [5,5,4,5,4,1,5]    # q5\n",
    "# serendipity =           [1,1,1,1,1,0,0]     # q6  -- yes/no\n",
    "likelihood_recommend =  [4,5,4,3,1,2,2]      # q7\n",
    "\n",
    "# Combine the data into a single array\n",
    "data = [effectiveness, likelihood_use, persuasiveness, transparency, efficiency, likelihood_recommend]\n",
    "\n",
    "# Perform Friedman test\n",
    "stat, p_value = stats.friedmanchisquare(*data)\n",
    "\n",
    "print(f'Statistic: {stat:.7f}, p-value: {p_value:.10f}')\n",
    "\n",
    "# Interpretation\n",
    "alpha = 0.05\n",
    "if p_value < alpha:\n",
    "    print(\"Reject the null hypothesis: There is a significant difference between the responses.\")\n",
    "else:\n",
    "    print(\"Fail to reject the null hypothesis: No significant difference between the responses.\")"
   ]
  },
  {
   "cell_type": "markdown",
   "metadata": {},
   "source": [
    "### Bachelor's Degree"
   ]
  },
  {
   "cell_type": "code",
   "execution_count": 18,
   "metadata": {},
   "outputs": [
    {
     "name": "stdout",
     "output_type": "stream",
     "text": [
      "Statistic: 8.4600760, p-value: 0.1326366703\n",
      "Fail to reject the null hypothesis: No significant difference between the responses.\n"
     ]
    }
   ],
   "source": [
    "# Each list represents the responses for one question from Bachelor's Degree\n",
    "effectiveness =         [4,4,5,5,5,5,3,3,4,5,5,5]     # q1\n",
    "likelihood_use =        [4,4,5,4,3,4,3,3,4,4,5,5]     # q2 - satisfaction\n",
    "persuasiveness =        [4,4,3,4,4,4,4,4,4,5,5,4]     # q3\n",
    "transparency =          [5,4,5,5,4,4,4,4,5,4,5,5]     # q4\n",
    "efficiency =            [5,4,4,5,5,4,5,3,5,4,5,5]    # q5\n",
    "# serendipity =           [1,0,1,1,1,1,1,1,1,1,1,1]     # q6  -- yes/no\n",
    "likelihood_recommend =  [4,5,4,5,3,4,4,3,5,5,5,5]      # q7\n",
    "\n",
    "# Combine the data into a single array\n",
    "data = [effectiveness, likelihood_use, persuasiveness, transparency, efficiency, likelihood_recommend]\n",
    "\n",
    "# Perform Friedman test\n",
    "stat, p_value = stats.friedmanchisquare(*data)\n",
    "\n",
    "print(f'Statistic: {stat:.7f}, p-value: {p_value:.10f}')\n",
    "\n",
    "# Interpretation\n",
    "alpha = 0.05\n",
    "if p_value < alpha:\n",
    "    print(\"Reject the null hypothesis: There is a significant difference between the responses.\")\n",
    "else:\n",
    "    print(\"Fail to reject the null hypothesis: No significant difference between the responses.\")"
   ]
  },
  {
   "cell_type": "markdown",
   "metadata": {},
   "source": [
    "### Master's Degree or Currently Enrolled in Master's Degree Program"
   ]
  },
  {
   "cell_type": "code",
   "execution_count": 20,
   "metadata": {},
   "outputs": [
    {
     "name": "stdout",
     "output_type": "stream",
     "text": [
      "Statistic: 8.7500000, p-value: 0.1194610119\n",
      "Fail to reject the null hypothesis: No significant difference between the responses.\n"
     ]
    }
   ],
   "source": [
    "# Each list represents the responses for one question from Master's Degree or Currently Enrolled in Master's Degree Program\n",
    "effectiveness =         [4,4,4,4,4,3]     # q1\n",
    "likelihood_use =        [4,4,4,4,4,2]     # q2 - satisfaction\n",
    "persuasiveness =        [5,4,4,5,5,1]     # q3\n",
    "transparency =          [4,4,5,4,5,4]     # q4\n",
    "efficiency =            [5,4,5,5,5,4]    # q5\n",
    "# serendipity =           [0,1,1,1,1,1]      # q6  -- yes/no\n",
    "likelihood_recommend =  [5,5,4,5,3,2]      # q7\n",
    "\n",
    "# Combine the data into a single array\n",
    "data = [effectiveness, likelihood_use, persuasiveness, transparency, efficiency, likelihood_recommend]\n",
    "\n",
    "# Perform Friedman test\n",
    "stat, p_value = stats.friedmanchisquare(*data)\n",
    "\n",
    "print(f'Statistic: {stat:.7f}, p-value: {p_value:.10f}')\n",
    "\n",
    "# Interpretation\n",
    "alpha = 0.05\n",
    "if p_value < alpha:\n",
    "    print(\"Reject the null hypothesis: There is a significant difference between the responses.\")\n",
    "else:\n",
    "    print(\"Fail to reject the null hypothesis: No significant difference between the responses.\")"
   ]
  }
 ],
 "metadata": {
  "kernelspec": {
   "display_name": "base",
   "language": "python",
   "name": "python3"
  },
  "language_info": {
   "codemirror_mode": {
    "name": "ipython",
    "version": 3
   },
   "file_extension": ".py",
   "mimetype": "text/x-python",
   "name": "python",
   "nbconvert_exporter": "python",
   "pygments_lexer": "ipython3",
   "version": "3.11.7"
  }
 },
 "nbformat": 4,
 "nbformat_minor": 2
}
