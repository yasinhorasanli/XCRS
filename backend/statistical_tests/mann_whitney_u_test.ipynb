{
 "cells": [
  {
   "cell_type": "markdown",
   "metadata": {},
   "source": [
    "# Education Level"
   ]
  },
  {
   "cell_type": "code",
   "execution_count": 4,
   "metadata": {},
   "outputs": [
    {
     "name": "stdout",
     "output_type": "stream",
     "text": [
      "Statistic: 68.0000, p-value: 0.4790\n",
      "Fail to reject the null hypothesis: No significant difference between the two groups.\n"
     ]
    }
   ],
   "source": [
    "from scipy import stats\n",
    "\n",
    "# Example: Effectiveness scores (Q1) grouped by education level\n",
    "group1 = [4,4,4,5,5,5,5,3,5,4,3,3,3,2,4,3,5,5,5] # Bachelor's Degree or Currently Enrolled in Bachelor's Degree Program\n",
    "group2 = [4,4,4,4,4,3] # Master's Degree or Currently Enrolled in Master's Degree Program \n",
    "\n",
    "# Perform Mann-Whitney U Test\n",
    "stat, p_value = stats.mannwhitneyu(group1, group2)\n",
    "print(f'Statistic: {stat:.4f}, p-value: {p_value:.4f}')\n",
    "\n",
    "# Interpretation\n",
    "alpha = 0.05\n",
    "if p_value < alpha:\n",
    "    print(\"Reject the null hypothesis: There is a significant difference between the two groups.\")\n",
    "else:\n",
    "    print(\"Fail to reject the null hypothesis: No significant difference between the two groups.\")\n"
   ]
  },
  {
   "cell_type": "code",
   "execution_count": 4,
   "metadata": {},
   "outputs": [
    {
     "name": "stdout",
     "output_type": "stream",
     "text": [
      "Statistic: 106.5000, p-value: 0.1465\n",
      "Fail to reject the null hypothesis: No significant difference between the two groups.\n"
     ]
    }
   ],
   "source": [
    "from scipy import stats\n",
    "\n",
    "# Example: Effectiveness scores (Q1) grouped by education level\n",
    "group1 = [4,4,4,5,5,5,5,3,5,4,3,3,3,2,4,3,5,5,5] # Bachelor's Degree or Currently Enrolled in Bachelor's Degree Program\n",
    "group2 = [4,4,4,4,4,3] # Master's Degree or Currently Enrolled in Master's Degree Program \n",
    "\n",
    "# Perform Mann-Whitney U Test\n",
    "stat, p_value = stats.mannwhitneyu(group1, group2)\n",
    "print(f'Statistic: {stat:.4f}, p-value: {p_value:.4f}')\n",
    "\n",
    "# Interpretation\n",
    "alpha = 0.05\n",
    "if p_value < alpha:\n",
    "    print(\"Reject the null hypothesis: There is a significant difference between the two groups.\")\n",
    "else:\n",
    "    print(\"Fail to reject the null hypothesis: No significant difference between the two groups.\")"
   ]
  }
 ],
 "metadata": {
  "kernelspec": {
   "display_name": "base",
   "language": "python",
   "name": "python3"
  },
  "language_info": {
   "codemirror_mode": {
    "name": "ipython",
    "version": 3
   },
   "file_extension": ".py",
   "mimetype": "text/x-python",
   "name": "python",
   "nbconvert_exporter": "python",
   "pygments_lexer": "ipython3",
   "version": "3.11.7"
  }
 },
 "nbformat": 4,
 "nbformat_minor": 2
}
