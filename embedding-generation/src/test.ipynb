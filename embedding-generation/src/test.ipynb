{
 "cells": [
  {
   "cell_type": "code",
   "execution_count": 1,
   "metadata": {},
   "outputs": [],
   "source": [
    "import os\n",
    "import pandas as pd\n",
    "from embedding_generator import EmbeddingGenerator"
   ]
  },
  {
   "cell_type": "code",
   "execution_count": 8,
   "metadata": {},
   "outputs": [
    {
     "name": "stdout",
     "output_type": "stream",
     "text": [
      "5\n",
      "5\n"
     ]
    }
   ],
   "source": [
    "read_df_path = \"../data/\"\n",
    "\n",
    "if os.path.exists(read_df_path + \"udemy_courses_5.csv\"):\n",
    "    udemy_courses_df = pd.read_csv(read_df_path + \"udemy_courses_5.csv\", index_col=0)\n",
    "    print(len(udemy_courses_df))\n",
    "    # 5\n",
    "\n",
    "if os.path.exists(read_df_path + \"roadmap_nodes_5.csv\"):\n",
    "    roadmap_nodes_df = pd.read_csv(read_df_path + \"roadmap_nodes_5.csv\", index_col=0)\n",
    "    print(len(roadmap_nodes_df))\n",
    "    # 5"
   ]
  },
  {
   "cell_type": "code",
   "execution_count": 10,
   "metadata": {},
   "outputs": [
    {
     "name": "stdout",
     "output_type": "stream",
     "text": [
      "Number of null embedding value for Courses Dataframe: 0\n",
      "Number of null embedding value for Roadmap Nodes Dataframe: 0\n"
     ]
    }
   ],
   "source": [
    "test_df_path = \"../data/test_data/\"\n",
    "palm_embedding_generator = EmbeddingGenerator(udemy_courses_df, roadmap_nodes_df, test_df_path, \"embedding-gecko-001\")\n",
    "udemy_courses_palm_emb_df = palm_embedding_generator.generate_embeddings_for_courses()\n",
    "roadmap_nodes_palm_emb_df = palm_embedding_generator.generate_embeddings_for_roadmaps()"
   ]
  },
  {
   "cell_type": "code",
   "execution_count": 11,
   "metadata": {},
   "outputs": [
    {
     "name": "stdout",
     "output_type": "stream",
     "text": [
      "Number of null embedding value for Courses Dataframe: 0\n",
      "Number of null embedding value for Roadmap Nodes Dataframe: 0\n"
     ]
    }
   ],
   "source": [
    "voyage_embedding_generator = EmbeddingGenerator(udemy_courses_df, roadmap_nodes_df, test_df_path, \"voyage-large-2\")\n",
    "udemy_courses_voyage_emb_df = voyage_embedding_generator.generate_embeddings_for_courses()\n",
    "roadmap_nodes_voyage_emb_df = voyage_embedding_generator.generate_embeddings_for_roadmaps()"
   ]
  },
  {
   "cell_type": "code",
   "execution_count": 8,
   "metadata": {},
   "outputs": [],
   "source": [
    "from openai import OpenAI\n",
    "import os\n",
    "\n",
    "\n",
    "api_key = open(\"../api_keys/openai_api_key.txt\").read().strip()\n",
    "os.environ[\"OPENAI_API_KEY\"] = api_key\n",
    "client = OpenAI()\n",
    "\n",
    "\n",
    "def get_embedding(text, model=\"text-embedding-3-small\"):\n",
    "   text = text.replace(\"\\n\", \" \")\n",
    "   return client.embeddings.create(input = [text], model=model).data[0].embedding\n",
    "\n",
    "# df['ada_embedding'] = df.combined.apply(lambda x: get_embedding(x, model='text-embedding-3-small'))\n",
    "# df.to_csv('output/embedded_1k_reviews.csv', index=False)"
   ]
  },
  {
   "cell_type": "code",
   "execution_count": 9,
   "metadata": {},
   "outputs": [],
   "source": [
    "text = \"Deneme texti\"\n",
    "\n",
    "embed = get_embedding(text)"
   ]
  },
  {
   "cell_type": "code",
   "execution_count": 12,
   "metadata": {},
   "outputs": [
    {
     "data": {
      "text/plain": [
       "1536"
      ]
     },
     "execution_count": 12,
     "metadata": {},
     "output_type": "execute_result"
    }
   ],
   "source": [
    "len(embed)"
   ]
  }
 ],
 "metadata": {
  "kernelspec": {
   "display_name": "base",
   "language": "python",
   "name": "python3"
  },
  "language_info": {
   "codemirror_mode": {
    "name": "ipython",
    "version": 3
   },
   "file_extension": ".py",
   "mimetype": "text/x-python",
   "name": "python",
   "nbconvert_exporter": "python",
   "pygments_lexer": "ipython3",
   "version": "3.11.7"
  }
 },
 "nbformat": 4,
 "nbformat_minor": 2
}
