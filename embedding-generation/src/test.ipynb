{
 "cells": [
  {
   "cell_type": "code",
   "execution_count": null,
   "metadata": {},
   "outputs": [],
   "source": [
    "import os\n",
    "import pandas as pd\n",
    "from embedding_generator import EmbeddingGenerator"
   ]
  },
  {
   "cell_type": "code",
   "execution_count": null,
   "metadata": {},
   "outputs": [],
   "source": [
    "df_path = \"../data/\"\n",
    "\n",
    "if os.path.exists(df_path + \"udemy_courses_5.csv\"):\n",
    "    udemy_courses_df = pd.read_csv(df_path + \"udemy_courses_5.csv\", index_col=0)\n",
    "    print(len(udemy_courses_df))\n",
    "    # 5\n",
    "\n",
    "if os.path.exists(df_path + \"roadmap_nodes_5.csv\"):\n",
    "    roadmap_nodes_df = pd.read_csv(df_path + \"roadmap_nodes_5.csv\", index_col=0)\n",
    "    print(len(roadmap_nodes_df))\n",
    "    # 5"
   ]
  },
  {
   "cell_type": "code",
   "execution_count": null,
   "metadata": {},
   "outputs": [],
   "source": [
    "df_path = \"../data/\"\n",
    "palm_embedding_generator = EmbeddingGenerator(udemy_courses_df, roadmap_nodes_df, df_path, \"embedding-gecko-001\")\n",
    "udemy_courses_df = palm_embedding_generator.generate_embeddings_for_courses()\n",
    "roadmap_nodes_df = palm_embedding_generator.generate_embeddings_for_roadmaps()"
   ]
  },
  {
   "cell_type": "code",
   "execution_count": null,
   "metadata": {},
   "outputs": [],
   "source": [
    "voyage_embedding_generator = EmbeddingGenerator(udemy_courses_df, roadmap_nodes_df, df_path, \"voyage-large-2\")\n",
    "udemy_courses_df = voyage_embedding_generator.generate_embeddings_for_courses()\n",
    "roadmap_nodes_df = voyage_embedding_generator.generate_embeddings_for_roadmaps()"
   ]
  },
  {
   "cell_type": "code",
   "execution_count": null,
   "metadata": {},
   "outputs": [],
   "source": [
    "udemy_courses_df"
   ]
  }
 ],
 "metadata": {
  "kernelspec": {
   "display_name": "base",
   "language": "python",
   "name": "python3"
  },
  "language_info": {
   "codemirror_mode": {
    "name": "ipython",
    "version": 3
   },
   "file_extension": ".py",
   "mimetype": "text/x-python",
   "name": "python",
   "nbconvert_exporter": "python",
   "pygments_lexer": "ipython3",
   "version": "3.11.7"
  }
 },
 "nbformat": 4,
 "nbformat_minor": 2
}
